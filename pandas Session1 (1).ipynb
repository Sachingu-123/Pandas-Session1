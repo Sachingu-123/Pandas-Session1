{
 "cells": [
  {
   "cell_type": "code",
   "execution_count": 5,
   "id": "5c0c64d9-f505-4866-ba17-fe47943f3c13",
   "metadata": {},
   "outputs": [],
   "source": [
    "import pandas as pd"
   ]
  },
  {
   "cell_type": "code",
   "execution_count": 6,
   "id": "dd07f10d-e141-413c-90a8-8907f778f249",
   "metadata": {},
   "outputs": [],
   "source": [
    "#pandas is an open source data analysis and manipulation library in python.\n",
    "#It provides flexible and powerful data structure called \"Series and DataFrame\" to manipulate the data. "
   ]
  },
  {
   "cell_type": "code",
   "execution_count": 7,
   "id": "30fc913e-db6e-499d-89b5-b2581921e6b3",
   "metadata": {},
   "outputs": [],
   "source": [
    "#Series From lists"
   ]
  },
  {
   "cell_type": "code",
   "execution_count": 8,
   "id": "98409068-c4e7-4f87-a454-3597ffcd641d",
   "metadata": {},
   "outputs": [
    {
     "data": {
      "text/plain": [
       "0    65\n",
       "1    67\n",
       "2    89\n",
       "3    98\n",
       "4    69\n",
       "Name: Sachin 1St sem Marks, dtype: int64"
      ]
     },
     "execution_count": 8,
     "metadata": {},
     "output_type": "execute_result"
    }
   ],
   "source": [
    "#integer\n",
    "marks=[65,67,89,98,69]\n",
    "pd.Series(marks,name=\"Sachin 1St sem Marks\")"
   ]
  },
  {
   "cell_type": "code",
   "execution_count": 38,
   "id": "6477ce54-c0b9-462b-aa4c-cd362b1567ae",
   "metadata": {},
   "outputs": [
    {
     "data": {
      "text/plain": [
       "0    Sachin\n",
       "1     Gupta\n",
       "2     kumar\n",
       "3    shahsi\n",
       "dtype: object"
      ]
     },
     "execution_count": 38,
     "metadata": {},
     "output_type": "execute_result"
    }
   ],
   "source": [
    "#string\n",
    "name=[\"Sachin\",'Gupta','kumar','shahsi']\n",
    "pd.Series(name)"
   ]
  },
  {
   "cell_type": "code",
   "execution_count": 39,
   "id": "73af8c83-11e7-455a-aef5-8ba95d4cc7b2",
   "metadata": {},
   "outputs": [
    {
     "data": {
      "text/plain": [
       "project    23\n",
       "sepm       34\n",
       "aiml       56\n",
       "ml         78\n",
       "nlp        99\n",
       "Name: 6th sem marks, dtype: int64"
      ]
     },
     "execution_count": 39,
     "metadata": {},
     "output_type": "execute_result"
    }
   ],
   "source": [
    "#custom setting\n",
    "marks=[23,34,56,78,99]\n",
    "subject=['project','sepm','aiml','ml','nlp']\n",
    "pd.Series(marks,index=subject,name=\"6th sem marks\")"
   ]
  },
  {
   "cell_type": "code",
   "execution_count": null,
   "id": "9b07fbc2-cfb1-47f0-a52a-2754d1aea707",
   "metadata": {},
   "outputs": [],
   "source": [
    "#Series from Dict"
   ]
  },
  {
   "cell_type": "code",
   "execution_count": 40,
   "id": "b8dab5b2-1e47-433d-a785-34e1910caa22",
   "metadata": {},
   "outputs": [],
   "source": [
    "marks={\n",
    "    'math':67,\n",
    "    'nlp':87,\n",
    "    'pm':90,\n",
    "    'semp':89\n",
    "}"
   ]
  },
  {
   "cell_type": "code",
   "execution_count": 41,
   "id": "6345595e-6e08-4de4-ab9c-ed88bc945c6a",
   "metadata": {},
   "outputs": [],
   "source": [
    "marks_series=pd.Series(marks,name=\"Sachin ka marks\")"
   ]
  },
  {
   "cell_type": "code",
   "execution_count": 42,
   "id": "5cce75a7-7ec0-4bf5-a2ac-d73058659aff",
   "metadata": {},
   "outputs": [
    {
     "data": {
      "text/plain": [
       "math    67\n",
       "nlp     87\n",
       "pm      90\n",
       "semp    89\n",
       "Name: Sachin ka marks, dtype: int64"
      ]
     },
     "execution_count": 42,
     "metadata": {},
     "output_type": "execute_result"
    }
   ],
   "source": [
    "marks_series"
   ]
  },
  {
   "cell_type": "code",
   "execution_count": null,
   "id": "4327af98-f7e3-462c-ae57-72c4515fb177",
   "metadata": {},
   "outputs": [],
   "source": [
    "#Series Attributes"
   ]
  },
  {
   "cell_type": "code",
   "execution_count": null,
   "id": "154aabef-a657-4008-8d6d-d5a3b728f555",
   "metadata": {},
   "outputs": [],
   "source": [
    "#size\n",
    "marks_series.size"
   ]
  },
  {
   "cell_type": "code",
   "execution_count": null,
   "id": "5a7686ef-2afd-4edf-ae3b-617b33133f75",
   "metadata": {},
   "outputs": [],
   "source": [
    "#dtype\n",
    "marks_series.dtype"
   ]
  },
  {
   "cell_type": "code",
   "execution_count": null,
   "id": "c1efdb9c-1c9d-43be-9a6a-532812b2caeb",
   "metadata": {},
   "outputs": [],
   "source": [
    "#name\n",
    "marks_series.name"
   ]
  },
  {
   "cell_type": "code",
   "execution_count": null,
   "id": "e3291dcd-60af-4acb-806b-64560d264a10",
   "metadata": {},
   "outputs": [],
   "source": [
    "#index\n",
    "marks_series.index"
   ]
  },
  {
   "cell_type": "code",
   "execution_count": null,
   "id": "808f669a-6206-4c1b-8955-b06764387157",
   "metadata": {},
   "outputs": [],
   "source": [
    "#is_unique\n",
    "marks_series.is_unique\n",
    "\n",
    "#pd.Series([1,1,2,3,4]).is_unique   --> False"
   ]
  },
  {
   "cell_type": "code",
   "execution_count": null,
   "id": "cdddeaf1-d862-4229-a94f-6ac9481f1722",
   "metadata": {},
   "outputs": [],
   "source": [
    "#values"
   ]
  },
  {
   "cell_type": "code",
   "execution_count": null,
   "id": "fb5ff9b4-cddc-45cc-8bd0-2367dc63964e",
   "metadata": {},
   "outputs": [],
   "source": [
    "marks_series.values"
   ]
  },
  {
   "cell_type": "code",
   "execution_count": null,
   "id": "fc96ed28-9a73-47d1-94f9-723722222656",
   "metadata": {},
   "outputs": [],
   "source": [
    "type(marks_series.values)"
   ]
  },
  {
   "cell_type": "code",
   "execution_count": null,
   "id": "933cfc27-110c-4713-95c1-c60c87567775",
   "metadata": {},
   "outputs": [],
   "source": [
    "#series using read_csv"
   ]
  },
  {
   "cell_type": "code",
   "execution_count": null,
   "id": "1625818d-842d-439d-9b2d-394b17ff07f2",
   "metadata": {},
   "outputs": [],
   "source": [
    "#with 1 col"
   ]
  },
  {
   "cell_type": "code",
   "execution_count": 28,
   "id": "004f30fb-6068-40cf-ab75-24a8a9b36f65",
   "metadata": {},
   "outputs": [],
   "source": [
    "subs=pd.read_csv(\"C:/subs.csv\")"
   ]
  },
  {
   "cell_type": "code",
   "execution_count": 29,
   "id": "21731d78-44cc-469a-b1b6-01ba25b54a83",
   "metadata": {},
   "outputs": [
    {
     "data": {
      "text/html": [
       "<div>\n",
       "<style scoped>\n",
       "    .dataframe tbody tr th:only-of-type {\n",
       "        vertical-align: middle;\n",
       "    }\n",
       "\n",
       "    .dataframe tbody tr th {\n",
       "        vertical-align: top;\n",
       "    }\n",
       "\n",
       "    .dataframe thead th {\n",
       "        text-align: right;\n",
       "    }\n",
       "</style>\n",
       "<table border=\"1\" class=\"dataframe\">\n",
       "  <thead>\n",
       "    <tr style=\"text-align: right;\">\n",
       "      <th></th>\n",
       "      <th>Subscribers gained</th>\n",
       "    </tr>\n",
       "  </thead>\n",
       "  <tbody>\n",
       "    <tr>\n",
       "      <th>0</th>\n",
       "      <td>48</td>\n",
       "    </tr>\n",
       "    <tr>\n",
       "      <th>1</th>\n",
       "      <td>57</td>\n",
       "    </tr>\n",
       "    <tr>\n",
       "      <th>2</th>\n",
       "      <td>40</td>\n",
       "    </tr>\n",
       "    <tr>\n",
       "      <th>3</th>\n",
       "      <td>43</td>\n",
       "    </tr>\n",
       "    <tr>\n",
       "      <th>4</th>\n",
       "      <td>44</td>\n",
       "    </tr>\n",
       "    <tr>\n",
       "      <th>...</th>\n",
       "      <td>...</td>\n",
       "    </tr>\n",
       "    <tr>\n",
       "      <th>360</th>\n",
       "      <td>231</td>\n",
       "    </tr>\n",
       "    <tr>\n",
       "      <th>361</th>\n",
       "      <td>226</td>\n",
       "    </tr>\n",
       "    <tr>\n",
       "      <th>362</th>\n",
       "      <td>155</td>\n",
       "    </tr>\n",
       "    <tr>\n",
       "      <th>363</th>\n",
       "      <td>144</td>\n",
       "    </tr>\n",
       "    <tr>\n",
       "      <th>364</th>\n",
       "      <td>172</td>\n",
       "    </tr>\n",
       "  </tbody>\n",
       "</table>\n",
       "<p>365 rows × 1 columns</p>\n",
       "</div>"
      ],
      "text/plain": [
       "     Subscribers gained\n",
       "0                    48\n",
       "1                    57\n",
       "2                    40\n",
       "3                    43\n",
       "4                    44\n",
       "..                  ...\n",
       "360                 231\n",
       "361                 226\n",
       "362                 155\n",
       "363                 144\n",
       "364                 172\n",
       "\n",
       "[365 rows x 1 columns]"
      ]
     },
     "execution_count": 29,
     "metadata": {},
     "output_type": "execute_result"
    }
   ],
   "source": [
    "subs"
   ]
  },
  {
   "cell_type": "code",
   "execution_count": null,
   "id": "bb316912-780f-4340-980f-40db84342530",
   "metadata": {},
   "outputs": [],
   "source": [
    "type(subs)"
   ]
  },
  {
   "cell_type": "code",
   "execution_count": null,
   "id": "386157ce-2fed-4181-8e0d-66465465a622",
   "metadata": {},
   "outputs": [],
   "source": [
    "#to convert into series we have to make a small change,i.e squeeze=True as a parameter"
   ]
  },
  {
   "cell_type": "code",
   "execution_count": null,
   "id": "08254981-5b4c-4f6f-9159-312d6ee57bde",
   "metadata": {},
   "outputs": [],
   "source": [
    "type(pd.read_csv(\"C:/subs.csv\"))"
   ]
  },
  {
   "cell_type": "code",
   "execution_count": null,
   "id": "4266c75e-2da3-4462-b19f-1add9409d2e1",
   "metadata": {},
   "outputs": [],
   "source": [
    "subs=pd.read_csv(\"C:/subs.csv\")\n",
    "\n",
    "if subs.shape[1] == 1:\n",
    "    series = subs.iloc[:, 0]\n",
    "else:\n",
    "    # Handle the case where there is more than one column\n",
    "    raise ValueError(\"The CSV file contains more than one column.\")\n",
    "\n",
    "print(series)"
   ]
  },
  {
   "cell_type": "code",
   "execution_count": null,
   "id": "de9325ab-2e50-4f7a-ad77-20f6c925e16a",
   "metadata": {},
   "outputs": [],
   "source": [
    "#2 col "
   ]
  },
  {
   "cell_type": "code",
   "execution_count": null,
   "id": "379a36c2-c50d-4d73-84f4-e8ce1c8c42fd",
   "metadata": {},
   "outputs": [],
   "source": [
    "df=pd.read_csv(\"C:/kohli_ipl.csv\",index_col='match_no')"
   ]
  },
  {
   "cell_type": "code",
   "execution_count": null,
   "id": "11079607-cde4-4077-b0f0-2f0240b7c419",
   "metadata": {},
   "outputs": [],
   "source": [
    "df"
   ]
  },
  {
   "cell_type": "code",
   "execution_count": null,
   "id": "57685729-577e-4237-b2e3-ffe13308101b",
   "metadata": {},
   "outputs": [],
   "source": [
    "series=df['runs']"
   ]
  },
  {
   "cell_type": "code",
   "execution_count": null,
   "id": "8c201fd9-e352-4ee9-9de4-b0e4f1c1ab90",
   "metadata": {},
   "outputs": [],
   "source": [
    "series"
   ]
  },
  {
   "cell_type": "code",
   "execution_count": 14,
   "id": "f292ffc1-abb1-4843-b8f8-a8f2f56b4ad1",
   "metadata": {},
   "outputs": [],
   "source": [
    "#\n",
    "movies=pd.read_csv(\"C:/bollywood.csv\",index_col='movie')"
   ]
  },
  {
   "cell_type": "code",
   "execution_count": 15,
   "id": "f378b78c-5ca5-47e1-b497-7d5f910d6991",
   "metadata": {},
   "outputs": [
    {
     "data": {
      "text/html": [
       "<div>\n",
       "<style scoped>\n",
       "    .dataframe tbody tr th:only-of-type {\n",
       "        vertical-align: middle;\n",
       "    }\n",
       "\n",
       "    .dataframe tbody tr th {\n",
       "        vertical-align: top;\n",
       "    }\n",
       "\n",
       "    .dataframe thead th {\n",
       "        text-align: right;\n",
       "    }\n",
       "</style>\n",
       "<table border=\"1\" class=\"dataframe\">\n",
       "  <thead>\n",
       "    <tr style=\"text-align: right;\">\n",
       "      <th></th>\n",
       "      <th>lead</th>\n",
       "    </tr>\n",
       "    <tr>\n",
       "      <th>movie</th>\n",
       "      <th></th>\n",
       "    </tr>\n",
       "  </thead>\n",
       "  <tbody>\n",
       "    <tr>\n",
       "      <th>Uri: The Surgical Strike</th>\n",
       "      <td>Vicky Kaushal</td>\n",
       "    </tr>\n",
       "    <tr>\n",
       "      <th>Battalion 609</th>\n",
       "      <td>Vicky Ahuja</td>\n",
       "    </tr>\n",
       "    <tr>\n",
       "      <th>The Accidental Prime Minister (film)</th>\n",
       "      <td>Anupam Kher</td>\n",
       "    </tr>\n",
       "    <tr>\n",
       "      <th>Why Cheat India</th>\n",
       "      <td>Emraan Hashmi</td>\n",
       "    </tr>\n",
       "    <tr>\n",
       "      <th>Evening Shadows</th>\n",
       "      <td>Mona Ambegaonkar</td>\n",
       "    </tr>\n",
       "    <tr>\n",
       "      <th>...</th>\n",
       "      <td>...</td>\n",
       "    </tr>\n",
       "    <tr>\n",
       "      <th>Hum Tumhare Hain Sanam</th>\n",
       "      <td>Shah Rukh Khan</td>\n",
       "    </tr>\n",
       "    <tr>\n",
       "      <th>Aankhen (2002 film)</th>\n",
       "      <td>Amitabh Bachchan</td>\n",
       "    </tr>\n",
       "    <tr>\n",
       "      <th>Saathiya (film)</th>\n",
       "      <td>Vivek Oberoi</td>\n",
       "    </tr>\n",
       "    <tr>\n",
       "      <th>Company (film)</th>\n",
       "      <td>Ajay Devgn</td>\n",
       "    </tr>\n",
       "    <tr>\n",
       "      <th>Awara Paagal Deewana</th>\n",
       "      <td>Akshay Kumar</td>\n",
       "    </tr>\n",
       "  </tbody>\n",
       "</table>\n",
       "<p>1500 rows × 1 columns</p>\n",
       "</div>"
      ],
      "text/plain": [
       "                                                  lead\n",
       "movie                                                 \n",
       "Uri: The Surgical Strike                 Vicky Kaushal\n",
       "Battalion 609                              Vicky Ahuja\n",
       "The Accidental Prime Minister (film)       Anupam Kher\n",
       "Why Cheat India                          Emraan Hashmi\n",
       "Evening Shadows                       Mona Ambegaonkar\n",
       "...                                                ...\n",
       "Hum Tumhare Hain Sanam                  Shah Rukh Khan\n",
       "Aankhen (2002 film)                   Amitabh Bachchan\n",
       "Saathiya (film)                           Vivek Oberoi\n",
       "Company (film)                              Ajay Devgn\n",
       "Awara Paagal Deewana                      Akshay Kumar\n",
       "\n",
       "[1500 rows x 1 columns]"
      ]
     },
     "execution_count": 15,
     "metadata": {},
     "output_type": "execute_result"
    }
   ],
   "source": [
    "movies"
   ]
  },
  {
   "cell_type": "code",
   "execution_count": 16,
   "id": "5ee175b5-8b71-4f01-b7c3-fbcac0d999dd",
   "metadata": {},
   "outputs": [],
   "source": [
    "series=movies['lead']   #converting into series "
   ]
  },
  {
   "cell_type": "code",
   "execution_count": 22,
   "id": "16ba089a-b626-4a7a-af11-c5d65890b53c",
   "metadata": {},
   "outputs": [
    {
     "data": {
      "text/plain": [
       "pandas.core.series.Series"
      ]
     },
     "execution_count": 22,
     "metadata": {},
     "output_type": "execute_result"
    }
   ],
   "source": [
    "type(series)"
   ]
  },
  {
   "cell_type": "code",
   "execution_count": 23,
   "id": "d0e71fe2-9bb7-4bc5-8331-6bb280a576b4",
   "metadata": {},
   "outputs": [],
   "source": [
    "#Series Methods"
   ]
  },
  {
   "cell_type": "code",
   "execution_count": 30,
   "id": "7f4c5b5e-ca25-4481-abf3-e8734dabdd41",
   "metadata": {},
   "outputs": [
    {
     "data": {
      "text/html": [
       "<div>\n",
       "<style scoped>\n",
       "    .dataframe tbody tr th:only-of-type {\n",
       "        vertical-align: middle;\n",
       "    }\n",
       "\n",
       "    .dataframe tbody tr th {\n",
       "        vertical-align: top;\n",
       "    }\n",
       "\n",
       "    .dataframe thead th {\n",
       "        text-align: right;\n",
       "    }\n",
       "</style>\n",
       "<table border=\"1\" class=\"dataframe\">\n",
       "  <thead>\n",
       "    <tr style=\"text-align: right;\">\n",
       "      <th></th>\n",
       "      <th>Subscribers gained</th>\n",
       "    </tr>\n",
       "  </thead>\n",
       "  <tbody>\n",
       "    <tr>\n",
       "      <th>0</th>\n",
       "      <td>48</td>\n",
       "    </tr>\n",
       "    <tr>\n",
       "      <th>1</th>\n",
       "      <td>57</td>\n",
       "    </tr>\n",
       "    <tr>\n",
       "      <th>2</th>\n",
       "      <td>40</td>\n",
       "    </tr>\n",
       "    <tr>\n",
       "      <th>3</th>\n",
       "      <td>43</td>\n",
       "    </tr>\n",
       "    <tr>\n",
       "      <th>4</th>\n",
       "      <td>44</td>\n",
       "    </tr>\n",
       "  </tbody>\n",
       "</table>\n",
       "</div>"
      ],
      "text/plain": [
       "   Subscribers gained\n",
       "0                  48\n",
       "1                  57\n",
       "2                  40\n",
       "3                  43\n",
       "4                  44"
      ]
     },
     "execution_count": 30,
     "metadata": {},
     "output_type": "execute_result"
    }
   ],
   "source": [
    "#head\n",
    "subs.head()"
   ]
  },
  {
   "cell_type": "code",
   "execution_count": 31,
   "id": "64fb2e74-e02c-4569-894d-f1f54f369e3f",
   "metadata": {},
   "outputs": [
    {
     "data": {
      "text/html": [
       "<div>\n",
       "<style scoped>\n",
       "    .dataframe tbody tr th:only-of-type {\n",
       "        vertical-align: middle;\n",
       "    }\n",
       "\n",
       "    .dataframe tbody tr th {\n",
       "        vertical-align: top;\n",
       "    }\n",
       "\n",
       "    .dataframe thead th {\n",
       "        text-align: right;\n",
       "    }\n",
       "</style>\n",
       "<table border=\"1\" class=\"dataframe\">\n",
       "  <thead>\n",
       "    <tr style=\"text-align: right;\">\n",
       "      <th></th>\n",
       "      <th>Subscribers gained</th>\n",
       "    </tr>\n",
       "  </thead>\n",
       "  <tbody>\n",
       "    <tr>\n",
       "      <th>0</th>\n",
       "      <td>48</td>\n",
       "    </tr>\n",
       "    <tr>\n",
       "      <th>1</th>\n",
       "      <td>57</td>\n",
       "    </tr>\n",
       "    <tr>\n",
       "      <th>2</th>\n",
       "      <td>40</td>\n",
       "    </tr>\n",
       "    <tr>\n",
       "      <th>3</th>\n",
       "      <td>43</td>\n",
       "    </tr>\n",
       "  </tbody>\n",
       "</table>\n",
       "</div>"
      ],
      "text/plain": [
       "   Subscribers gained\n",
       "0                  48\n",
       "1                  57\n",
       "2                  40\n",
       "3                  43"
      ]
     },
     "execution_count": 31,
     "metadata": {},
     "output_type": "execute_result"
    }
   ],
   "source": [
    "subs.head(4)"
   ]
  },
  {
   "cell_type": "code",
   "execution_count": 32,
   "id": "360b041d-f966-4240-90df-17083aa549e9",
   "metadata": {},
   "outputs": [
    {
     "data": {
      "text/html": [
       "<div>\n",
       "<style scoped>\n",
       "    .dataframe tbody tr th:only-of-type {\n",
       "        vertical-align: middle;\n",
       "    }\n",
       "\n",
       "    .dataframe tbody tr th {\n",
       "        vertical-align: top;\n",
       "    }\n",
       "\n",
       "    .dataframe thead th {\n",
       "        text-align: right;\n",
       "    }\n",
       "</style>\n",
       "<table border=\"1\" class=\"dataframe\">\n",
       "  <thead>\n",
       "    <tr style=\"text-align: right;\">\n",
       "      <th></th>\n",
       "      <th>Subscribers gained</th>\n",
       "    </tr>\n",
       "  </thead>\n",
       "  <tbody>\n",
       "    <tr>\n",
       "      <th>360</th>\n",
       "      <td>231</td>\n",
       "    </tr>\n",
       "    <tr>\n",
       "      <th>361</th>\n",
       "      <td>226</td>\n",
       "    </tr>\n",
       "    <tr>\n",
       "      <th>362</th>\n",
       "      <td>155</td>\n",
       "    </tr>\n",
       "    <tr>\n",
       "      <th>363</th>\n",
       "      <td>144</td>\n",
       "    </tr>\n",
       "    <tr>\n",
       "      <th>364</th>\n",
       "      <td>172</td>\n",
       "    </tr>\n",
       "  </tbody>\n",
       "</table>\n",
       "</div>"
      ],
      "text/plain": [
       "     Subscribers gained\n",
       "360                 231\n",
       "361                 226\n",
       "362                 155\n",
       "363                 144\n",
       "364                 172"
      ]
     },
     "execution_count": 32,
     "metadata": {},
     "output_type": "execute_result"
    }
   ],
   "source": [
    "#tail\n",
    "subs.tail()"
   ]
  },
  {
   "cell_type": "code",
   "execution_count": 101,
   "id": "e1ea534b-b67a-4187-8a8c-e82af979eaa3",
   "metadata": {},
   "outputs": [
    {
     "data": {
      "text/html": [
       "<div>\n",
       "<style scoped>\n",
       "    .dataframe tbody tr th:only-of-type {\n",
       "        vertical-align: middle;\n",
       "    }\n",
       "\n",
       "    .dataframe tbody tr th {\n",
       "        vertical-align: top;\n",
       "    }\n",
       "\n",
       "    .dataframe thead th {\n",
       "        text-align: right;\n",
       "    }\n",
       "</style>\n",
       "<table border=\"1\" class=\"dataframe\">\n",
       "  <thead>\n",
       "    <tr style=\"text-align: right;\">\n",
       "      <th></th>\n",
       "      <th>Subscribers gained</th>\n",
       "    </tr>\n",
       "  </thead>\n",
       "  <tbody>\n",
       "    <tr>\n",
       "      <th>363</th>\n",
       "      <td>144</td>\n",
       "    </tr>\n",
       "    <tr>\n",
       "      <th>364</th>\n",
       "      <td>172</td>\n",
       "    </tr>\n",
       "  </tbody>\n",
       "</table>\n",
       "</div>"
      ],
      "text/plain": [
       "     Subscribers gained\n",
       "363                 144\n",
       "364                 172"
      ]
     },
     "execution_count": 101,
     "metadata": {},
     "output_type": "execute_result"
    }
   ],
   "source": [
    "subs.tail(2)"
   ]
  },
  {
   "cell_type": "code",
   "execution_count": 104,
   "id": "3f086446-972d-4cc7-9669-07a8f831e0d9",
   "metadata": {},
   "outputs": [
    {
     "data": {
      "text/html": [
       "<div>\n",
       "<style scoped>\n",
       "    .dataframe tbody tr th:only-of-type {\n",
       "        vertical-align: middle;\n",
       "    }\n",
       "\n",
       "    .dataframe tbody tr th {\n",
       "        vertical-align: top;\n",
       "    }\n",
       "\n",
       "    .dataframe thead th {\n",
       "        text-align: right;\n",
       "    }\n",
       "</style>\n",
       "<table border=\"1\" class=\"dataframe\">\n",
       "  <thead>\n",
       "    <tr style=\"text-align: right;\">\n",
       "      <th></th>\n",
       "      <th>Subscribers gained</th>\n",
       "    </tr>\n",
       "  </thead>\n",
       "  <tbody>\n",
       "    <tr>\n",
       "      <th>132</th>\n",
       "      <td>75</td>\n",
       "    </tr>\n",
       "  </tbody>\n",
       "</table>\n",
       "</div>"
      ],
      "text/plain": [
       "     Subscribers gained\n",
       "132                  75"
      ]
     },
     "execution_count": 104,
     "metadata": {},
     "output_type": "execute_result"
    }
   ],
   "source": [
    "#sample--->it will one random row from the sample\n",
    "subs.sample()"
   ]
  },
  {
   "cell_type": "code",
   "execution_count": 105,
   "id": "3b920207-9e44-4074-948c-aa8719ffc3e3",
   "metadata": {},
   "outputs": [
    {
     "data": {
      "text/html": [
       "<div>\n",
       "<style scoped>\n",
       "    .dataframe tbody tr th:only-of-type {\n",
       "        vertical-align: middle;\n",
       "    }\n",
       "\n",
       "    .dataframe tbody tr th {\n",
       "        vertical-align: top;\n",
       "    }\n",
       "\n",
       "    .dataframe thead th {\n",
       "        text-align: right;\n",
       "    }\n",
       "</style>\n",
       "<table border=\"1\" class=\"dataframe\">\n",
       "  <thead>\n",
       "    <tr style=\"text-align: right;\">\n",
       "      <th></th>\n",
       "      <th>Subscribers gained</th>\n",
       "    </tr>\n",
       "  </thead>\n",
       "  <tbody>\n",
       "    <tr>\n",
       "      <th>333</th>\n",
       "      <td>229</td>\n",
       "    </tr>\n",
       "    <tr>\n",
       "      <th>316</th>\n",
       "      <td>167</td>\n",
       "    </tr>\n",
       "    <tr>\n",
       "      <th>41</th>\n",
       "      <td>66</td>\n",
       "    </tr>\n",
       "  </tbody>\n",
       "</table>\n",
       "</div>"
      ],
      "text/plain": [
       "     Subscribers gained\n",
       "333                 229\n",
       "316                 167\n",
       "41                   66"
      ]
     },
     "execution_count": 105,
     "metadata": {},
     "output_type": "execute_result"
    }
   ],
   "source": [
    "subs.sample(3)"
   ]
  },
  {
   "cell_type": "code",
   "execution_count": 106,
   "id": "bf20f298-a7b9-4af7-9ffd-bd0c5e08ab4e",
   "metadata": {},
   "outputs": [],
   "source": [
    "#value_counts --->freq of the data"
   ]
  },
  {
   "cell_type": "code",
   "execution_count": 108,
   "id": "51891ba8-ddf5-43f8-9cd0-8cc4af3cdefb",
   "metadata": {},
   "outputs": [
    {
     "data": {
      "text/plain": [
       "lead            \n",
       "Akshay Kumar        48\n",
       "Amitabh Bachchan    45\n",
       "Ajay Devgn          38\n",
       "Salman Khan         31\n",
       "Sanjay Dutt         26\n",
       "                    ..\n",
       "Kashmira Shah        1\n",
       "Kartik Elangovan     1\n",
       "Karisma Kapoor       1\n",
       "Karan Sharma         1\n",
       "Zulfi Sayed          1\n",
       "Name: count, Length: 566, dtype: int64"
      ]
     },
     "execution_count": 108,
     "metadata": {},
     "output_type": "execute_result"
    }
   ],
   "source": [
    "movies.value_counts()"
   ]
  },
  {
   "cell_type": "code",
   "execution_count": 111,
   "id": "7468e07f-b4a0-4ff8-b5b8-f40a641e2579",
   "metadata": {},
   "outputs": [],
   "source": [
    "akshay_movies = movies[movies['lead'].str.contains('Akshay Kumar', case=False, na=False)]\n"
   ]
  },
  {
   "cell_type": "code",
   "execution_count": 112,
   "id": "90353bab-dd02-4efc-8a67-17822dc3c7e0",
   "metadata": {},
   "outputs": [
    {
     "data": {
      "text/html": [
       "<div>\n",
       "<style scoped>\n",
       "    .dataframe tbody tr th:only-of-type {\n",
       "        vertical-align: middle;\n",
       "    }\n",
       "\n",
       "    .dataframe tbody tr th {\n",
       "        vertical-align: top;\n",
       "    }\n",
       "\n",
       "    .dataframe thead th {\n",
       "        text-align: right;\n",
       "    }\n",
       "</style>\n",
       "<table border=\"1\" class=\"dataframe\">\n",
       "  <thead>\n",
       "    <tr style=\"text-align: right;\">\n",
       "      <th></th>\n",
       "      <th>lead</th>\n",
       "    </tr>\n",
       "    <tr>\n",
       "      <th>movie</th>\n",
       "      <th></th>\n",
       "    </tr>\n",
       "  </thead>\n",
       "  <tbody>\n",
       "    <tr>\n",
       "      <th>Kesari (film)</th>\n",
       "      <td>Akshay Kumar</td>\n",
       "    </tr>\n",
       "    <tr>\n",
       "      <th>Mission Mangal</th>\n",
       "      <td>Akshay Kumar</td>\n",
       "    </tr>\n",
       "    <tr>\n",
       "      <th>Housefull 4</th>\n",
       "      <td>Akshay Kumar</td>\n",
       "    </tr>\n",
       "    <tr>\n",
       "      <th>Good Newwz</th>\n",
       "      <td>Akshay Kumar</td>\n",
       "    </tr>\n",
       "    <tr>\n",
       "      <th>Gold (2018 film)</th>\n",
       "      <td>Akshay Kumar</td>\n",
       "    </tr>\n",
       "    <tr>\n",
       "      <th>Toilet: Ek Prem Katha</th>\n",
       "      <td>Akshay Kumar</td>\n",
       "    </tr>\n",
       "    <tr>\n",
       "      <th>Airlift (film)</th>\n",
       "      <td>Akshay Kumar</td>\n",
       "    </tr>\n",
       "    <tr>\n",
       "      <th>Baby (2015 Hindi film)</th>\n",
       "      <td>Akshay Kumar</td>\n",
       "    </tr>\n",
       "    <tr>\n",
       "      <th>Singh Is Bliing</th>\n",
       "      <td>Akshay Kumar</td>\n",
       "    </tr>\n",
       "    <tr>\n",
       "      <th>Gabbar Is Back</th>\n",
       "      <td>Akshay Kumar</td>\n",
       "    </tr>\n",
       "    <tr>\n",
       "      <th>Gabbar Is Back</th>\n",
       "      <td>Akshay Kumar</td>\n",
       "    </tr>\n",
       "    <tr>\n",
       "      <th>Brothers (2015 film)</th>\n",
       "      <td>Akshay Kumar</td>\n",
       "    </tr>\n",
       "    <tr>\n",
       "      <th>Holiday: A Soldier Is Never Off Duty</th>\n",
       "      <td>Akshay Kumar</td>\n",
       "    </tr>\n",
       "    <tr>\n",
       "      <th>Entertainment (2014 film)</th>\n",
       "      <td>Akshay Kumar</td>\n",
       "    </tr>\n",
       "    <tr>\n",
       "      <th>The Shaukeens</th>\n",
       "      <td>Akshay Kumar</td>\n",
       "    </tr>\n",
       "    <tr>\n",
       "      <th>Special 26</th>\n",
       "      <td>Akshay Kumar</td>\n",
       "    </tr>\n",
       "    <tr>\n",
       "      <th>Once Upon ay Time in Mumbai Dobaara!</th>\n",
       "      <td>Akshay Kumar</td>\n",
       "    </tr>\n",
       "    <tr>\n",
       "      <th>Boss (2013 Hindi film)</th>\n",
       "      <td>Akshay Kumar</td>\n",
       "    </tr>\n",
       "    <tr>\n",
       "      <th>Joker (2012 film)</th>\n",
       "      <td>Akshay Kumar</td>\n",
       "    </tr>\n",
       "    <tr>\n",
       "      <th>Housefull 2</th>\n",
       "      <td>Akshay Kumar</td>\n",
       "    </tr>\n",
       "    <tr>\n",
       "      <th>Thank You (2011 film)</th>\n",
       "      <td>Akshay Kumar</td>\n",
       "    </tr>\n",
       "    <tr>\n",
       "      <th>Desi Boyz</th>\n",
       "      <td>Akshay Kumar</td>\n",
       "    </tr>\n",
       "    <tr>\n",
       "      <th>Housefull (2010 film)</th>\n",
       "      <td>Akshay Kumar</td>\n",
       "    </tr>\n",
       "    <tr>\n",
       "      <th>Khatta Meetha (2010 film)</th>\n",
       "      <td>Akshay Kumar</td>\n",
       "    </tr>\n",
       "    <tr>\n",
       "      <th>Tees Maar Khan (2010 film)</th>\n",
       "      <td>Akshay Kumar</td>\n",
       "    </tr>\n",
       "    <tr>\n",
       "      <th>Action Replayy</th>\n",
       "      <td>Akshay Kumar</td>\n",
       "    </tr>\n",
       "    <tr>\n",
       "      <th>Blue (2009 film)</th>\n",
       "      <td>Akshay Kumar</td>\n",
       "    </tr>\n",
       "    <tr>\n",
       "      <th>De Dana Dan</th>\n",
       "      <td>Akshay Kumar</td>\n",
       "    </tr>\n",
       "    <tr>\n",
       "      <th>Singh Is Kinng</th>\n",
       "      <td>Akshay Kumar</td>\n",
       "    </tr>\n",
       "    <tr>\n",
       "      <th>Tashan (film)</th>\n",
       "      <td>Akshay Kumar</td>\n",
       "    </tr>\n",
       "    <tr>\n",
       "      <th>Bhool Bhulaiyaa</th>\n",
       "      <td>Akshay Kumar</td>\n",
       "    </tr>\n",
       "    <tr>\n",
       "      <th>Namastey London</th>\n",
       "      <td>Akshay Kumar</td>\n",
       "    </tr>\n",
       "    <tr>\n",
       "      <th>Welcome (2007 film)</th>\n",
       "      <td>Akshay Kumar</td>\n",
       "    </tr>\n",
       "    <tr>\n",
       "      <th>Bhagam Bhag</th>\n",
       "      <td>Akshay Kumar</td>\n",
       "    </tr>\n",
       "    <tr>\n",
       "      <th>Humko Deewana Kar Gaye</th>\n",
       "      <td>Akshay Kumar</td>\n",
       "    </tr>\n",
       "    <tr>\n",
       "      <th>Phir Hera Pheri</th>\n",
       "      <td>Akshay Kumar</td>\n",
       "    </tr>\n",
       "    <tr>\n",
       "      <th>Mere Jeevan Saathi (2006 film)</th>\n",
       "      <td>Akshay Kumar</td>\n",
       "    </tr>\n",
       "    <tr>\n",
       "      <th>Deewane Huye Paagal</th>\n",
       "      <td>Akshay Kumar</td>\n",
       "    </tr>\n",
       "    <tr>\n",
       "      <th>Dosti: Friends Forever</th>\n",
       "      <td>Akshay Kumar</td>\n",
       "    </tr>\n",
       "    <tr>\n",
       "      <th>Garam Masala (2005 film)</th>\n",
       "      <td>Akshay Kumar</td>\n",
       "    </tr>\n",
       "    <tr>\n",
       "      <th>Insan</th>\n",
       "      <td>Akshay Kumar</td>\n",
       "    </tr>\n",
       "    <tr>\n",
       "      <th>Aitraaz</th>\n",
       "      <td>Akshay Kumar</td>\n",
       "    </tr>\n",
       "    <tr>\n",
       "      <th>Hatya (2004 film)</th>\n",
       "      <td>Akshay Kumar</td>\n",
       "    </tr>\n",
       "    <tr>\n",
       "      <th>Meri Biwi Ka Jawaab Nahin</th>\n",
       "      <td>Akshay Kumar</td>\n",
       "    </tr>\n",
       "    <tr>\n",
       "      <th>Police Force: An Inside Story</th>\n",
       "      <td>Akshay Kumar</td>\n",
       "    </tr>\n",
       "    <tr>\n",
       "      <th>Andaaz</th>\n",
       "      <td>Akshay Kumar</td>\n",
       "    </tr>\n",
       "    <tr>\n",
       "      <th>Andaaz</th>\n",
       "      <td>Akshay Kumar</td>\n",
       "    </tr>\n",
       "    <tr>\n",
       "      <th>Awara Paagal Deewana</th>\n",
       "      <td>Akshay Kumar</td>\n",
       "    </tr>\n",
       "  </tbody>\n",
       "</table>\n",
       "</div>"
      ],
      "text/plain": [
       "                                              lead\n",
       "movie                                             \n",
       "Kesari (film)                         Akshay Kumar\n",
       "Mission Mangal                        Akshay Kumar\n",
       "Housefull 4                           Akshay Kumar\n",
       "Good Newwz                            Akshay Kumar\n",
       "Gold (2018 film)                      Akshay Kumar\n",
       "Toilet: Ek Prem Katha                 Akshay Kumar\n",
       "Airlift (film)                        Akshay Kumar\n",
       "Baby (2015 Hindi film)                Akshay Kumar\n",
       "Singh Is Bliing                       Akshay Kumar\n",
       "Gabbar Is Back                        Akshay Kumar\n",
       "Gabbar Is Back                        Akshay Kumar\n",
       "Brothers (2015 film)                  Akshay Kumar\n",
       "Holiday: A Soldier Is Never Off Duty  Akshay Kumar\n",
       "Entertainment (2014 film)             Akshay Kumar\n",
       "The Shaukeens                         Akshay Kumar\n",
       "Special 26                            Akshay Kumar\n",
       "Once Upon ay Time in Mumbai Dobaara!  Akshay Kumar\n",
       "Boss (2013 Hindi film)                Akshay Kumar\n",
       "Joker (2012 film)                     Akshay Kumar\n",
       "Housefull 2                           Akshay Kumar\n",
       "Thank You (2011 film)                 Akshay Kumar\n",
       "Desi Boyz                             Akshay Kumar\n",
       "Housefull (2010 film)                 Akshay Kumar\n",
       "Khatta Meetha (2010 film)             Akshay Kumar\n",
       "Tees Maar Khan (2010 film)            Akshay Kumar\n",
       "Action Replayy                        Akshay Kumar\n",
       "Blue (2009 film)                      Akshay Kumar\n",
       "De Dana Dan                           Akshay Kumar\n",
       "Singh Is Kinng                        Akshay Kumar\n",
       "Tashan (film)                         Akshay Kumar\n",
       "Bhool Bhulaiyaa                       Akshay Kumar\n",
       "Namastey London                       Akshay Kumar\n",
       "Welcome (2007 film)                   Akshay Kumar\n",
       "Bhagam Bhag                           Akshay Kumar\n",
       "Humko Deewana Kar Gaye                Akshay Kumar\n",
       "Phir Hera Pheri                       Akshay Kumar\n",
       "Mere Jeevan Saathi (2006 film)        Akshay Kumar\n",
       "Deewane Huye Paagal                   Akshay Kumar\n",
       "Dosti: Friends Forever                Akshay Kumar\n",
       "Garam Masala (2005 film)              Akshay Kumar\n",
       "Insan                                 Akshay Kumar\n",
       "Aitraaz                               Akshay Kumar\n",
       "Hatya (2004 film)                     Akshay Kumar\n",
       "Meri Biwi Ka Jawaab Nahin             Akshay Kumar\n",
       "Police Force: An Inside Story         Akshay Kumar\n",
       "Andaaz                                Akshay Kumar\n",
       "Andaaz                                Akshay Kumar\n",
       "Awara Paagal Deewana                  Akshay Kumar"
      ]
     },
     "execution_count": 112,
     "metadata": {},
     "output_type": "execute_result"
    }
   ],
   "source": [
    "akshay_movies"
   ]
  },
  {
   "cell_type": "code",
   "execution_count": 116,
   "id": "840db9a6-9def-4603-a30a-6e89ba8fa189",
   "metadata": {},
   "outputs": [],
   "source": [
    "BigB_movies=movies[movies['lead'].str.contains('Amitabh Bachchan',case=False,na=False)]\n"
   ]
  },
  {
   "cell_type": "code",
   "execution_count": 117,
   "id": "1dede952-e915-4e76-8378-6ab97dfe88d4",
   "metadata": {},
   "outputs": [
    {
     "data": {
      "text/html": [
       "<div>\n",
       "<style scoped>\n",
       "    .dataframe tbody tr th:only-of-type {\n",
       "        vertical-align: middle;\n",
       "    }\n",
       "\n",
       "    .dataframe tbody tr th {\n",
       "        vertical-align: top;\n",
       "    }\n",
       "\n",
       "    .dataframe thead th {\n",
       "        text-align: right;\n",
       "    }\n",
       "</style>\n",
       "<table border=\"1\" class=\"dataframe\">\n",
       "  <thead>\n",
       "    <tr style=\"text-align: right;\">\n",
       "      <th></th>\n",
       "      <th>lead</th>\n",
       "    </tr>\n",
       "    <tr>\n",
       "      <th>movie</th>\n",
       "      <th></th>\n",
       "    </tr>\n",
       "  </thead>\n",
       "  <tbody>\n",
       "    <tr>\n",
       "      <th>Badla (2019 film)</th>\n",
       "      <td>Amitabh Bachchan</td>\n",
       "    </tr>\n",
       "    <tr>\n",
       "      <th>Begum Jaan</th>\n",
       "      <td>Amitabh Bachchan</td>\n",
       "    </tr>\n",
       "    <tr>\n",
       "      <th>Sarkar 3</th>\n",
       "      <td>Amitabh Bachchan</td>\n",
       "    </tr>\n",
       "    <tr>\n",
       "      <th>Te3n</th>\n",
       "      <td>Amitabh Bachchan</td>\n",
       "    </tr>\n",
       "    <tr>\n",
       "      <th>Ki &amp; Ka</th>\n",
       "      <td>Amitabh Bachchan</td>\n",
       "    </tr>\n",
       "    <tr>\n",
       "      <th>Shamitabh</th>\n",
       "      <td>Amitabh Bachchan</td>\n",
       "    </tr>\n",
       "    <tr>\n",
       "      <th>Bhoothnath Returns</th>\n",
       "      <td>Amitabh Bachchan</td>\n",
       "    </tr>\n",
       "    <tr>\n",
       "      <th>Satyagraha (film)</th>\n",
       "      <td>Amitabh Bachchan</td>\n",
       "    </tr>\n",
       "    <tr>\n",
       "      <th>Bol Bachchan</th>\n",
       "      <td>Amitabh Bachchan</td>\n",
       "    </tr>\n",
       "    <tr>\n",
       "      <th>Bbuddah... Hoga Terra Baap</th>\n",
       "      <td>Amitabh Bachchan</td>\n",
       "    </tr>\n",
       "    <tr>\n",
       "      <th>Aarakshan</th>\n",
       "      <td>Amitabh Bachchan</td>\n",
       "    </tr>\n",
       "    <tr>\n",
       "      <th>Rann (film)</th>\n",
       "      <td>Amitabh Bachchan</td>\n",
       "    </tr>\n",
       "    <tr>\n",
       "      <th>Teen Patti (film)</th>\n",
       "      <td>Amitabh Bachchan</td>\n",
       "    </tr>\n",
       "    <tr>\n",
       "      <th>Aladin (film)</th>\n",
       "      <td>Amitabh Bachchan</td>\n",
       "    </tr>\n",
       "    <tr>\n",
       "      <th>Paa (film)</th>\n",
       "      <td>Amitabh Bachchan</td>\n",
       "    </tr>\n",
       "    <tr>\n",
       "      <th>Bhoothnath</th>\n",
       "      <td>Amitabh Bachchan</td>\n",
       "    </tr>\n",
       "    <tr>\n",
       "      <th>Sarkar Raj</th>\n",
       "      <td>Amitabh Bachchan</td>\n",
       "    </tr>\n",
       "    <tr>\n",
       "      <th>God Tussi Great Ho</th>\n",
       "      <td>Amitabh Bachchan</td>\n",
       "    </tr>\n",
       "    <tr>\n",
       "      <th>The Last Lear</th>\n",
       "      <td>Amitabh Bachchan</td>\n",
       "    </tr>\n",
       "    <tr>\n",
       "      <th>Aag (2007 film)</th>\n",
       "      <td>Amitabh Bachchan</td>\n",
       "    </tr>\n",
       "    <tr>\n",
       "      <th>Cheeni Kum</th>\n",
       "      <td>Amitabh Bachchan</td>\n",
       "    </tr>\n",
       "    <tr>\n",
       "      <th>Eklavya: The Royal Guard</th>\n",
       "      <td>Amitabh Bachchan</td>\n",
       "    </tr>\n",
       "    <tr>\n",
       "      <th>Nishabd</th>\n",
       "      <td>Amitabh Bachchan</td>\n",
       "    </tr>\n",
       "    <tr>\n",
       "      <th>Shootout at Lokhandwala</th>\n",
       "      <td>Amitabh Bachchan</td>\n",
       "    </tr>\n",
       "    <tr>\n",
       "      <th>Baabul (2006 film)</th>\n",
       "      <td>Amitabh Bachchan</td>\n",
       "    </tr>\n",
       "    <tr>\n",
       "      <th>Darna Zaroori Hai</th>\n",
       "      <td>Amitabh Bachchan</td>\n",
       "    </tr>\n",
       "    <tr>\n",
       "      <th>Family (2006 film)</th>\n",
       "      <td>Amitabh Bachchan</td>\n",
       "    </tr>\n",
       "    <tr>\n",
       "      <th>Kabhi Alvida Naa Kehna</th>\n",
       "      <td>Amitabh Bachchan</td>\n",
       "    </tr>\n",
       "    <tr>\n",
       "      <th>Black (2005 film)</th>\n",
       "      <td>Amitabh Bachchan</td>\n",
       "    </tr>\n",
       "    <tr>\n",
       "      <th>Dil Jo Bhi Kahey...</th>\n",
       "      <td>Amitabh Bachchan</td>\n",
       "    </tr>\n",
       "    <tr>\n",
       "      <th>Ek Ajnabee</th>\n",
       "      <td>Amitabh Bachchan</td>\n",
       "    </tr>\n",
       "    <tr>\n",
       "      <th>Sarkar (2005 film)</th>\n",
       "      <td>Amitabh Bachchan</td>\n",
       "    </tr>\n",
       "    <tr>\n",
       "      <th>Viruddh... Family Comes First</th>\n",
       "      <td>Amitabh Bachchan</td>\n",
       "    </tr>\n",
       "    <tr>\n",
       "      <th>Waqt: The Race Against Time</th>\n",
       "      <td>Amitabh Bachchan</td>\n",
       "    </tr>\n",
       "    <tr>\n",
       "      <th>Khakee</th>\n",
       "      <td>Amitabh Bachchan</td>\n",
       "    </tr>\n",
       "    <tr>\n",
       "      <th>Aetbaar</th>\n",
       "      <td>Amitabh Bachchan</td>\n",
       "    </tr>\n",
       "    <tr>\n",
       "      <th>Ab Tumhare Hawale Watan Saathiyo</th>\n",
       "      <td>Amitabh Bachchan</td>\n",
       "    </tr>\n",
       "    <tr>\n",
       "      <th>Deewaar (2004 film)</th>\n",
       "      <td>Amitabh Bachchan</td>\n",
       "    </tr>\n",
       "    <tr>\n",
       "      <th>Dev (2004 film)</th>\n",
       "      <td>Amitabh Bachchan</td>\n",
       "    </tr>\n",
       "    <tr>\n",
       "      <th>Kyun! Ho Gaya Na...</th>\n",
       "      <td>Amitabh Bachchan</td>\n",
       "    </tr>\n",
       "    <tr>\n",
       "      <th>Baghban (2003 film)</th>\n",
       "      <td>Amitabh Bachchan</td>\n",
       "    </tr>\n",
       "    <tr>\n",
       "      <th>Boom (film)</th>\n",
       "      <td>Amitabh Bachchan</td>\n",
       "    </tr>\n",
       "    <tr>\n",
       "      <th>Armaan (2003 film)</th>\n",
       "      <td>Amitabh Bachchan</td>\n",
       "    </tr>\n",
       "    <tr>\n",
       "      <th>Kaante</th>\n",
       "      <td>Amitabh Bachchan</td>\n",
       "    </tr>\n",
       "    <tr>\n",
       "      <th>Aankhen (2002 film)</th>\n",
       "      <td>Amitabh Bachchan</td>\n",
       "    </tr>\n",
       "  </tbody>\n",
       "</table>\n",
       "</div>"
      ],
      "text/plain": [
       "                                              lead\n",
       "movie                                             \n",
       "Badla (2019 film)                 Amitabh Bachchan\n",
       "Begum Jaan                        Amitabh Bachchan\n",
       "Sarkar 3                          Amitabh Bachchan\n",
       "Te3n                              Amitabh Bachchan\n",
       "Ki & Ka                           Amitabh Bachchan\n",
       "Shamitabh                         Amitabh Bachchan\n",
       "Bhoothnath Returns                Amitabh Bachchan\n",
       "Satyagraha (film)                 Amitabh Bachchan\n",
       "Bol Bachchan                      Amitabh Bachchan\n",
       "Bbuddah... Hoga Terra Baap        Amitabh Bachchan\n",
       "Aarakshan                         Amitabh Bachchan\n",
       "Rann (film)                       Amitabh Bachchan\n",
       "Teen Patti (film)                 Amitabh Bachchan\n",
       "Aladin (film)                     Amitabh Bachchan\n",
       "Paa (film)                        Amitabh Bachchan\n",
       "Bhoothnath                        Amitabh Bachchan\n",
       "Sarkar Raj                        Amitabh Bachchan\n",
       "God Tussi Great Ho                Amitabh Bachchan\n",
       "The Last Lear                     Amitabh Bachchan\n",
       "Aag (2007 film)                   Amitabh Bachchan\n",
       "Cheeni Kum                        Amitabh Bachchan\n",
       "Eklavya: The Royal Guard          Amitabh Bachchan\n",
       "Nishabd                           Amitabh Bachchan\n",
       "Shootout at Lokhandwala           Amitabh Bachchan\n",
       "Baabul (2006 film)                Amitabh Bachchan\n",
       "Darna Zaroori Hai                 Amitabh Bachchan\n",
       "Family (2006 film)                Amitabh Bachchan\n",
       "Kabhi Alvida Naa Kehna            Amitabh Bachchan\n",
       "Black (2005 film)                 Amitabh Bachchan\n",
       "Dil Jo Bhi Kahey...               Amitabh Bachchan\n",
       "Ek Ajnabee                        Amitabh Bachchan\n",
       "Sarkar (2005 film)                Amitabh Bachchan\n",
       "Viruddh... Family Comes First     Amitabh Bachchan\n",
       "Waqt: The Race Against Time       Amitabh Bachchan\n",
       "Khakee                            Amitabh Bachchan\n",
       "Aetbaar                           Amitabh Bachchan\n",
       "Ab Tumhare Hawale Watan Saathiyo  Amitabh Bachchan\n",
       "Deewaar (2004 film)               Amitabh Bachchan\n",
       "Dev (2004 film)                   Amitabh Bachchan\n",
       "Kyun! Ho Gaya Na...               Amitabh Bachchan\n",
       "Baghban (2003 film)               Amitabh Bachchan\n",
       "Boom (film)                       Amitabh Bachchan\n",
       "Armaan (2003 film)                Amitabh Bachchan\n",
       "Kaante                            Amitabh Bachchan\n",
       "Aankhen (2002 film)               Amitabh Bachchan"
      ]
     },
     "execution_count": 117,
     "metadata": {},
     "output_type": "execute_result"
    }
   ],
   "source": [
    "BigB_movies"
   ]
  },
  {
   "cell_type": "code",
   "execution_count": 118,
   "id": "deec0d58-b306-4a5e-97e6-d06b61b16779",
   "metadata": {},
   "outputs": [],
   "source": [
    "#sort_values"
   ]
  },
  {
   "cell_type": "code",
   "execution_count": 157,
   "id": "9c17c788-e4a7-41bf-b692-6d2c33dc3837",
   "metadata": {},
   "outputs": [
    {
     "data": {
      "text/plain": [
       "array([128, 113], dtype=int64)"
      ]
     },
     "execution_count": 157,
     "metadata": {},
     "output_type": "execute_result"
    }
   ],
   "source": [
    "df.sort_values(by='runs',ascending=False).head(1).values[0]   #but it will not do permanent chnges in the dataset"
   ]
  },
  {
   "cell_type": "code",
   "execution_count": 158,
   "id": "4e7937c8-c610-4ff9-96bb-cc01a342119f",
   "metadata": {},
   "outputs": [
    {
     "data": {
      "text/html": [
       "<div>\n",
       "<style scoped>\n",
       "    .dataframe tbody tr th:only-of-type {\n",
       "        vertical-align: middle;\n",
       "    }\n",
       "\n",
       "    .dataframe tbody tr th {\n",
       "        vertical-align: top;\n",
       "    }\n",
       "\n",
       "    .dataframe thead th {\n",
       "        text-align: right;\n",
       "    }\n",
       "</style>\n",
       "<table border=\"1\" class=\"dataframe\">\n",
       "  <thead>\n",
       "    <tr style=\"text-align: right;\">\n",
       "      <th></th>\n",
       "      <th>match_no</th>\n",
       "      <th>runs</th>\n",
       "    </tr>\n",
       "  </thead>\n",
       "  <tbody>\n",
       "    <tr>\n",
       "      <th>0</th>\n",
       "      <td>1</td>\n",
       "      <td>1</td>\n",
       "    </tr>\n",
       "    <tr>\n",
       "      <th>1</th>\n",
       "      <td>2</td>\n",
       "      <td>23</td>\n",
       "    </tr>\n",
       "    <tr>\n",
       "      <th>2</th>\n",
       "      <td>3</td>\n",
       "      <td>13</td>\n",
       "    </tr>\n",
       "    <tr>\n",
       "      <th>3</th>\n",
       "      <td>4</td>\n",
       "      <td>12</td>\n",
       "    </tr>\n",
       "    <tr>\n",
       "      <th>4</th>\n",
       "      <td>5</td>\n",
       "      <td>1</td>\n",
       "    </tr>\n",
       "    <tr>\n",
       "      <th>...</th>\n",
       "      <td>...</td>\n",
       "      <td>...</td>\n",
       "    </tr>\n",
       "    <tr>\n",
       "      <th>210</th>\n",
       "      <td>211</td>\n",
       "      <td>0</td>\n",
       "    </tr>\n",
       "    <tr>\n",
       "      <th>211</th>\n",
       "      <td>212</td>\n",
       "      <td>20</td>\n",
       "    </tr>\n",
       "    <tr>\n",
       "      <th>212</th>\n",
       "      <td>213</td>\n",
       "      <td>73</td>\n",
       "    </tr>\n",
       "    <tr>\n",
       "      <th>213</th>\n",
       "      <td>214</td>\n",
       "      <td>25</td>\n",
       "    </tr>\n",
       "    <tr>\n",
       "      <th>214</th>\n",
       "      <td>215</td>\n",
       "      <td>7</td>\n",
       "    </tr>\n",
       "  </tbody>\n",
       "</table>\n",
       "<p>215 rows × 2 columns</p>\n",
       "</div>"
      ],
      "text/plain": [
       "     match_no  runs\n",
       "0           1     1\n",
       "1           2    23\n",
       "2           3    13\n",
       "3           4    12\n",
       "4           5     1\n",
       "..        ...   ...\n",
       "210       211     0\n",
       "211       212    20\n",
       "212       213    73\n",
       "213       214    25\n",
       "214       215     7\n",
       "\n",
       "[215 rows x 2 columns]"
      ]
     },
     "execution_count": 158,
     "metadata": {},
     "output_type": "execute_result"
    }
   ],
   "source": [
    "df"
   ]
  },
  {
   "cell_type": "code",
   "execution_count": 159,
   "id": "40b6dc6b-ddcd-4f25-9821-bfdf68b3fe16",
   "metadata": {},
   "outputs": [],
   "source": [
    "#if we want permament chages in the dataset. we have a parameter inplace to make permameent changes in the original dataset"
   ]
  },
  {
   "cell_type": "code",
   "execution_count": 160,
   "id": "5246a178-d358-4ddd-b236-dc1a18447c95",
   "metadata": {},
   "outputs": [],
   "source": [
    "#sort_values -->inplace"
   ]
  },
  {
   "cell_type": "code",
   "execution_count": 163,
   "id": "dbb5ba7a-48f3-4f46-a333-f5aafe7e552a",
   "metadata": {},
   "outputs": [],
   "source": [
    "df.sort_values(by='runs',inplace=True)"
   ]
  },
  {
   "cell_type": "code",
   "execution_count": 164,
   "id": "57b39ddf-b23c-497e-a39d-c607561e2081",
   "metadata": {},
   "outputs": [
    {
     "data": {
      "text/html": [
       "<div>\n",
       "<style scoped>\n",
       "    .dataframe tbody tr th:only-of-type {\n",
       "        vertical-align: middle;\n",
       "    }\n",
       "\n",
       "    .dataframe tbody tr th {\n",
       "        vertical-align: top;\n",
       "    }\n",
       "\n",
       "    .dataframe thead th {\n",
       "        text-align: right;\n",
       "    }\n",
       "</style>\n",
       "<table border=\"1\" class=\"dataframe\">\n",
       "  <thead>\n",
       "    <tr style=\"text-align: right;\">\n",
       "      <th></th>\n",
       "      <th>match_no</th>\n",
       "      <th>runs</th>\n",
       "    </tr>\n",
       "  </thead>\n",
       "  <tbody>\n",
       "    <tr>\n",
       "      <th>86</th>\n",
       "      <td>87</td>\n",
       "      <td>0</td>\n",
       "    </tr>\n",
       "    <tr>\n",
       "      <th>210</th>\n",
       "      <td>211</td>\n",
       "      <td>0</td>\n",
       "    </tr>\n",
       "    <tr>\n",
       "      <th>206</th>\n",
       "      <td>207</td>\n",
       "      <td>0</td>\n",
       "    </tr>\n",
       "    <tr>\n",
       "      <th>205</th>\n",
       "      <td>206</td>\n",
       "      <td>0</td>\n",
       "    </tr>\n",
       "    <tr>\n",
       "      <th>90</th>\n",
       "      <td>91</td>\n",
       "      <td>0</td>\n",
       "    </tr>\n",
       "    <tr>\n",
       "      <th>...</th>\n",
       "      <td>...</td>\n",
       "      <td>...</td>\n",
       "    </tr>\n",
       "    <tr>\n",
       "      <th>163</th>\n",
       "      <td>164</td>\n",
       "      <td>100</td>\n",
       "    </tr>\n",
       "    <tr>\n",
       "      <th>119</th>\n",
       "      <td>120</td>\n",
       "      <td>100</td>\n",
       "    </tr>\n",
       "    <tr>\n",
       "      <th>122</th>\n",
       "      <td>123</td>\n",
       "      <td>108</td>\n",
       "    </tr>\n",
       "    <tr>\n",
       "      <th>125</th>\n",
       "      <td>126</td>\n",
       "      <td>109</td>\n",
       "    </tr>\n",
       "    <tr>\n",
       "      <th>127</th>\n",
       "      <td>128</td>\n",
       "      <td>113</td>\n",
       "    </tr>\n",
       "  </tbody>\n",
       "</table>\n",
       "<p>215 rows × 2 columns</p>\n",
       "</div>"
      ],
      "text/plain": [
       "     match_no  runs\n",
       "86         87     0\n",
       "210       211     0\n",
       "206       207     0\n",
       "205       206     0\n",
       "90         91     0\n",
       "..        ...   ...\n",
       "163       164   100\n",
       "119       120   100\n",
       "122       123   108\n",
       "125       126   109\n",
       "127       128   113\n",
       "\n",
       "[215 rows x 2 columns]"
      ]
     },
     "execution_count": 164,
     "metadata": {},
     "output_type": "execute_result"
    }
   ],
   "source": [
    "df"
   ]
  },
  {
   "cell_type": "code",
   "execution_count": 169,
   "id": "ef9f0852-ad81-49bd-9285-2ce3994f0bcb",
   "metadata": {},
   "outputs": [
    {
     "data": {
      "text/html": [
       "<div>\n",
       "<style scoped>\n",
       "    .dataframe tbody tr th:only-of-type {\n",
       "        vertical-align: middle;\n",
       "    }\n",
       "\n",
       "    .dataframe tbody tr th {\n",
       "        vertical-align: top;\n",
       "    }\n",
       "\n",
       "    .dataframe thead th {\n",
       "        text-align: right;\n",
       "    }\n",
       "</style>\n",
       "<table border=\"1\" class=\"dataframe\">\n",
       "  <thead>\n",
       "    <tr style=\"text-align: right;\">\n",
       "      <th></th>\n",
       "      <th>lead</th>\n",
       "    </tr>\n",
       "    <tr>\n",
       "      <th>movie</th>\n",
       "      <th></th>\n",
       "    </tr>\n",
       "  </thead>\n",
       "  <tbody>\n",
       "    <tr>\n",
       "      <th>1920 (film)</th>\n",
       "      <td>Rajniesh Duggall</td>\n",
       "    </tr>\n",
       "    <tr>\n",
       "      <th>1920: London</th>\n",
       "      <td>Sharman Joshi</td>\n",
       "    </tr>\n",
       "    <tr>\n",
       "      <th>1920: The Evil Returns</th>\n",
       "      <td>Vicky Ahuja</td>\n",
       "    </tr>\n",
       "    <tr>\n",
       "      <th>1971 (2007 film)</th>\n",
       "      <td>Manoj Bajpayee</td>\n",
       "    </tr>\n",
       "    <tr>\n",
       "      <th>2 States (2014 film)</th>\n",
       "      <td>Arjun Kapoor</td>\n",
       "    </tr>\n",
       "    <tr>\n",
       "      <th>...</th>\n",
       "      <td>...</td>\n",
       "    </tr>\n",
       "    <tr>\n",
       "      <th>Zindagi 50-50</th>\n",
       "      <td>Veena Malik</td>\n",
       "    </tr>\n",
       "    <tr>\n",
       "      <th>Zindagi Na Milegi Dobara</th>\n",
       "      <td>Hrithik Roshan</td>\n",
       "    </tr>\n",
       "    <tr>\n",
       "      <th>Zindagi Tere Naam</th>\n",
       "      <td>Mithun Chakraborty</td>\n",
       "    </tr>\n",
       "    <tr>\n",
       "      <th>Zokkomon</th>\n",
       "      <td>Darsheel Safary</td>\n",
       "    </tr>\n",
       "    <tr>\n",
       "      <th>Zor Lagaa Ke...Haiya!</th>\n",
       "      <td>Meghan Jadhav</td>\n",
       "    </tr>\n",
       "  </tbody>\n",
       "</table>\n",
       "<p>1500 rows × 1 columns</p>\n",
       "</div>"
      ],
      "text/plain": [
       "                                        lead\n",
       "movie                                       \n",
       "1920 (film)                 Rajniesh Duggall\n",
       "1920: London                   Sharman Joshi\n",
       "1920: The Evil Returns           Vicky Ahuja\n",
       "1971 (2007 film)              Manoj Bajpayee\n",
       "2 States (2014 film)            Arjun Kapoor\n",
       "...                                      ...\n",
       "Zindagi 50-50                    Veena Malik\n",
       "Zindagi Na Milegi Dobara      Hrithik Roshan\n",
       "Zindagi Tere Naam         Mithun Chakraborty\n",
       "Zokkomon                     Darsheel Safary\n",
       "Zor Lagaa Ke...Haiya!          Meghan Jadhav\n",
       "\n",
       "[1500 rows x 1 columns]"
      ]
     },
     "execution_count": 169,
     "metadata": {},
     "output_type": "execute_result"
    }
   ],
   "source": [
    "#sort_index\n",
    "movies.sort_index()"
   ]
  },
  {
   "cell_type": "code",
   "execution_count": 173,
   "id": "2ea31c60-32b3-43bf-b443-57763d4e4671",
   "metadata": {},
   "outputs": [],
   "source": [
    "Raj_Duggall_movies=movies[movies['lead'].str.contains('Rajniesh Duggall')]"
   ]
  },
  {
   "cell_type": "code",
   "execution_count": 174,
   "id": "d8894bbd-3835-4f9c-b072-492d2549225c",
   "metadata": {},
   "outputs": [
    {
     "data": {
      "text/html": [
       "<div>\n",
       "<style scoped>\n",
       "    .dataframe tbody tr th:only-of-type {\n",
       "        vertical-align: middle;\n",
       "    }\n",
       "\n",
       "    .dataframe tbody tr th {\n",
       "        vertical-align: top;\n",
       "    }\n",
       "\n",
       "    .dataframe thead th {\n",
       "        text-align: right;\n",
       "    }\n",
       "</style>\n",
       "<table border=\"1\" class=\"dataframe\">\n",
       "  <thead>\n",
       "    <tr style=\"text-align: right;\">\n",
       "      <th></th>\n",
       "      <th>lead</th>\n",
       "    </tr>\n",
       "    <tr>\n",
       "      <th>movie</th>\n",
       "      <th></th>\n",
       "    </tr>\n",
       "  </thead>\n",
       "  <tbody>\n",
       "    <tr>\n",
       "      <th>Direct Ishq</th>\n",
       "      <td>Rajniesh Duggall</td>\n",
       "    </tr>\n",
       "    <tr>\n",
       "      <th>Phhir</th>\n",
       "      <td>Rajniesh Duggall</td>\n",
       "    </tr>\n",
       "    <tr>\n",
       "      <th>1920 (film)</th>\n",
       "      <td>Rajniesh Duggall</td>\n",
       "    </tr>\n",
       "  </tbody>\n",
       "</table>\n",
       "</div>"
      ],
      "text/plain": [
       "                         lead\n",
       "movie                        \n",
       "Direct Ishq  Rajniesh Duggall\n",
       "Phhir        Rajniesh Duggall\n",
       "1920 (film)  Rajniesh Duggall"
      ]
     },
     "execution_count": 174,
     "metadata": {},
     "output_type": "execute_result"
    }
   ],
   "source": [
    "Raj_Duggall_movies"
   ]
  },
  {
   "cell_type": "code",
   "execution_count": 175,
   "id": "737c6f11-4675-4ae8-b122-e77e2cdc12c7",
   "metadata": {},
   "outputs": [],
   "source": [
    "#Series Mathematical Method"
   ]
  },
  {
   "cell_type": "code",
   "execution_count": 177,
   "id": "8fb88623-4ced-4003-8f4f-d18a9b15d277",
   "metadata": {},
   "outputs": [
    {
     "data": {
      "text/plain": [
       "lead    1500\n",
       "dtype: int64"
      ]
     },
     "execution_count": 177,
     "metadata": {},
     "output_type": "execute_result"
    }
   ],
   "source": [
    "#count -->The count function returns the number of non-null values in each column or row.\n",
    "movies.count()"
   ]
  },
  {
   "cell_type": "code",
   "execution_count": 179,
   "id": "9ae517f7-6ba9-4d9a-bdce-9565c2dc4601",
   "metadata": {},
   "outputs": [
    {
     "data": {
      "text/plain": [
       "Subscribers gained    49510\n",
       "dtype: int64"
      ]
     },
     "execution_count": 179,
     "metadata": {},
     "output_type": "execute_result"
    }
   ],
   "source": [
    "#sum() #The sum function returns the sum of the values over the requested axis.\n",
    "subs.sum()\n"
   ]
  },
  {
   "cell_type": "code",
   "execution_count": 182,
   "id": "b19e2b06-2408-4ae6-991a-201a3896828c",
   "metadata": {},
   "outputs": [
    {
     "data": {
      "text/plain": [
       "Subscribers gained    135.643836\n",
       "dtype: float64"
      ]
     },
     "execution_count": 182,
     "metadata": {},
     "output_type": "execute_result"
    }
   ],
   "source": [
    "#mean -- meadian -- mode --std\n",
    "subs.mean()"
   ]
  },
  {
   "cell_type": "code",
   "execution_count": 184,
   "id": "10295f3e-e2e3-424d-91f6-49164c79f757",
   "metadata": {},
   "outputs": [
    {
     "data": {
      "text/plain": [
       "Subscribers gained    123.0\n",
       "dtype: float64"
      ]
     },
     "execution_count": 184,
     "metadata": {},
     "output_type": "execute_result"
    }
   ],
   "source": [
    "subs.median()"
   ]
  },
  {
   "cell_type": "code",
   "execution_count": 185,
   "id": "5f822721-7899-4dd6-a2ef-5de60437b43b",
   "metadata": {},
   "outputs": [
    {
     "data": {
      "text/html": [
       "<div>\n",
       "<style scoped>\n",
       "    .dataframe tbody tr th:only-of-type {\n",
       "        vertical-align: middle;\n",
       "    }\n",
       "\n",
       "    .dataframe tbody tr th {\n",
       "        vertical-align: top;\n",
       "    }\n",
       "\n",
       "    .dataframe thead th {\n",
       "        text-align: right;\n",
       "    }\n",
       "</style>\n",
       "<table border=\"1\" class=\"dataframe\">\n",
       "  <thead>\n",
       "    <tr style=\"text-align: right;\">\n",
       "      <th></th>\n",
       "      <th>Subscribers gained</th>\n",
       "    </tr>\n",
       "  </thead>\n",
       "  <tbody>\n",
       "    <tr>\n",
       "      <th>0</th>\n",
       "      <td>105</td>\n",
       "    </tr>\n",
       "  </tbody>\n",
       "</table>\n",
       "</div>"
      ],
      "text/plain": [
       "   Subscribers gained\n",
       "0                 105"
      ]
     },
     "execution_count": 185,
     "metadata": {},
     "output_type": "execute_result"
    }
   ],
   "source": [
    "subs.mode()"
   ]
  },
  {
   "cell_type": "code",
   "execution_count": 186,
   "id": "81e874eb-2e9e-4f22-944b-8c2692b23113",
   "metadata": {},
   "outputs": [
    {
     "data": {
      "text/plain": [
       "Subscribers gained    33\n",
       "dtype: int64"
      ]
     },
     "execution_count": 186,
     "metadata": {},
     "output_type": "execute_result"
    }
   ],
   "source": [
    "subs.min()"
   ]
  },
  {
   "cell_type": "code",
   "execution_count": 187,
   "id": "141896be-e7f7-4b4a-9f55-e52a426de882",
   "metadata": {},
   "outputs": [
    {
     "data": {
      "text/plain": [
       "Subscribers gained    396\n",
       "dtype: int64"
      ]
     },
     "execution_count": 187,
     "metadata": {},
     "output_type": "execute_result"
    }
   ],
   "source": [
    "subs.max()"
   ]
  },
  {
   "cell_type": "code",
   "execution_count": 190,
   "id": "51dd30b7-e12b-4e5b-a97e-128cb4513438",
   "metadata": {},
   "outputs": [
    {
     "data": {
      "text/html": [
       "<div>\n",
       "<style scoped>\n",
       "    .dataframe tbody tr th:only-of-type {\n",
       "        vertical-align: middle;\n",
       "    }\n",
       "\n",
       "    .dataframe tbody tr th {\n",
       "        vertical-align: top;\n",
       "    }\n",
       "\n",
       "    .dataframe thead th {\n",
       "        text-align: right;\n",
       "    }\n",
       "</style>\n",
       "<table border=\"1\" class=\"dataframe\">\n",
       "  <thead>\n",
       "    <tr style=\"text-align: right;\">\n",
       "      <th></th>\n",
       "      <th>lead</th>\n",
       "    </tr>\n",
       "  </thead>\n",
       "  <tbody>\n",
       "    <tr>\n",
       "      <th>0</th>\n",
       "      <td>Akshay Kumar</td>\n",
       "    </tr>\n",
       "  </tbody>\n",
       "</table>\n",
       "</div>"
      ],
      "text/plain": [
       "           lead\n",
       "0  Akshay Kumar"
      ]
     },
     "execution_count": 190,
     "metadata": {},
     "output_type": "execute_result"
    }
   ],
   "source": [
    "movies.mode()"
   ]
  },
  {
   "cell_type": "code",
   "execution_count": 191,
   "id": "7b4993cd-43d7-4653-8dda-f6627d99fb44",
   "metadata": {},
   "outputs": [
    {
     "data": {
      "text/plain": [
       "Subscribers gained    62.675023\n",
       "dtype: float64"
      ]
     },
     "execution_count": 191,
     "metadata": {},
     "output_type": "execute_result"
    }
   ],
   "source": [
    "subs.std()"
   ]
  },
  {
   "cell_type": "code",
   "execution_count": 193,
   "id": "0e60edf4-bc68-4790-ae3e-0a1af67ccede",
   "metadata": {},
   "outputs": [
    {
     "name": "stdout",
     "output_type": "stream",
     "text": [
      "Subscribers gained    3928.158513\n",
      "dtype: float64\n"
     ]
    }
   ],
   "source": [
    "print(subs.var())"
   ]
  },
  {
   "cell_type": "code",
   "execution_count": 194,
   "id": "4844a6ff-87e9-474f-9883-a387a9db26c9",
   "metadata": {},
   "outputs": [
    {
     "data": {
      "text/html": [
       "<div>\n",
       "<style scoped>\n",
       "    .dataframe tbody tr th:only-of-type {\n",
       "        vertical-align: middle;\n",
       "    }\n",
       "\n",
       "    .dataframe tbody tr th {\n",
       "        vertical-align: top;\n",
       "    }\n",
       "\n",
       "    .dataframe thead th {\n",
       "        text-align: right;\n",
       "    }\n",
       "</style>\n",
       "<table border=\"1\" class=\"dataframe\">\n",
       "  <thead>\n",
       "    <tr style=\"text-align: right;\">\n",
       "      <th></th>\n",
       "      <th>Subscribers gained</th>\n",
       "    </tr>\n",
       "  </thead>\n",
       "  <tbody>\n",
       "    <tr>\n",
       "      <th>count</th>\n",
       "      <td>365.000000</td>\n",
       "    </tr>\n",
       "    <tr>\n",
       "      <th>mean</th>\n",
       "      <td>135.643836</td>\n",
       "    </tr>\n",
       "    <tr>\n",
       "      <th>std</th>\n",
       "      <td>62.675023</td>\n",
       "    </tr>\n",
       "    <tr>\n",
       "      <th>min</th>\n",
       "      <td>33.000000</td>\n",
       "    </tr>\n",
       "    <tr>\n",
       "      <th>25%</th>\n",
       "      <td>88.000000</td>\n",
       "    </tr>\n",
       "    <tr>\n",
       "      <th>50%</th>\n",
       "      <td>123.000000</td>\n",
       "    </tr>\n",
       "    <tr>\n",
       "      <th>75%</th>\n",
       "      <td>177.000000</td>\n",
       "    </tr>\n",
       "    <tr>\n",
       "      <th>max</th>\n",
       "      <td>396.000000</td>\n",
       "    </tr>\n",
       "  </tbody>\n",
       "</table>\n",
       "</div>"
      ],
      "text/plain": [
       "       Subscribers gained\n",
       "count          365.000000\n",
       "mean           135.643836\n",
       "std             62.675023\n",
       "min             33.000000\n",
       "25%             88.000000\n",
       "50%            123.000000\n",
       "75%            177.000000\n",
       "max            396.000000"
      ]
     },
     "execution_count": 194,
     "metadata": {},
     "output_type": "execute_result"
    }
   ],
   "source": [
    "subs.describe()"
   ]
  },
  {
   "cell_type": "code",
   "execution_count": 195,
   "id": "5ce68541-121d-40df-bab0-b519fedbd3d8",
   "metadata": {},
   "outputs": [],
   "source": [
    "#Series Indexing"
   ]
  },
  {
   "cell_type": "code",
   "execution_count": 197,
   "id": "b0364b24-77c4-4738-9b54-a70d99588351",
   "metadata": {},
   "outputs": [
    {
     "data": {
      "text/plain": [
       "23"
      ]
     },
     "execution_count": 197,
     "metadata": {},
     "output_type": "execute_result"
    }
   ],
   "source": [
    "#integer indexing\n",
    "x=pd.Series([23,13,12,34,56,78])\n",
    "x[0]"
   ]
  },
  {
   "cell_type": "code",
   "execution_count": 200,
   "id": "6180328a-f73b-4b05-b8db-483864292f67",
   "metadata": {},
   "outputs": [],
   "source": [
    "#negative indexing doest support\n",
    "#x[-1]    #we will get keyerror=-1"
   ]
  },
  {
   "cell_type": "code",
   "execution_count": 205,
   "id": "254a97e5-2125-4b77-9a6b-3598c8f94901",
   "metadata": {},
   "outputs": [
    {
     "data": {
      "text/html": [
       "<div>\n",
       "<style scoped>\n",
       "    .dataframe tbody tr th:only-of-type {\n",
       "        vertical-align: middle;\n",
       "    }\n",
       "\n",
       "    .dataframe tbody tr th {\n",
       "        vertical-align: top;\n",
       "    }\n",
       "\n",
       "    .dataframe thead th {\n",
       "        text-align: right;\n",
       "    }\n",
       "</style>\n",
       "<table border=\"1\" class=\"dataframe\">\n",
       "  <thead>\n",
       "    <tr style=\"text-align: right;\">\n",
       "      <th></th>\n",
       "      <th>match_no</th>\n",
       "      <th>runs</th>\n",
       "    </tr>\n",
       "  </thead>\n",
       "  <tbody>\n",
       "    <tr>\n",
       "      <th>3</th>\n",
       "      <td>4</td>\n",
       "      <td>12</td>\n",
       "    </tr>\n",
       "    <tr>\n",
       "      <th>4</th>\n",
       "      <td>5</td>\n",
       "      <td>1</td>\n",
       "    </tr>\n",
       "    <tr>\n",
       "      <th>5</th>\n",
       "      <td>6</td>\n",
       "      <td>9</td>\n",
       "    </tr>\n",
       "    <tr>\n",
       "      <th>6</th>\n",
       "      <td>7</td>\n",
       "      <td>34</td>\n",
       "    </tr>\n",
       "  </tbody>\n",
       "</table>\n",
       "</div>"
      ],
      "text/plain": [
       "   match_no  runs\n",
       "3         4    12\n",
       "4         5     1\n",
       "5         6     9\n",
       "6         7    34"
      ]
     },
     "execution_count": 205,
     "metadata": {},
     "output_type": "execute_result"
    }
   ],
   "source": [
    "#slicing\n",
    "vk[3:7]"
   ]
  },
  {
   "cell_type": "code",
   "execution_count": 210,
   "id": "c340282d-e9d3-4a50-95c2-fc4fe2f4fe96",
   "metadata": {},
   "outputs": [
    {
     "data": {
      "text/html": [
       "<div>\n",
       "<style scoped>\n",
       "    .dataframe tbody tr th:only-of-type {\n",
       "        vertical-align: middle;\n",
       "    }\n",
       "\n",
       "    .dataframe tbody tr th {\n",
       "        vertical-align: top;\n",
       "    }\n",
       "\n",
       "    .dataframe thead th {\n",
       "        text-align: right;\n",
       "    }\n",
       "</style>\n",
       "<table border=\"1\" class=\"dataframe\">\n",
       "  <thead>\n",
       "    <tr style=\"text-align: right;\">\n",
       "      <th></th>\n",
       "      <th>match_no</th>\n",
       "      <th>runs</th>\n",
       "    </tr>\n",
       "  </thead>\n",
       "  <tbody>\n",
       "    <tr>\n",
       "      <th>210</th>\n",
       "      <td>211</td>\n",
       "      <td>0</td>\n",
       "    </tr>\n",
       "    <tr>\n",
       "      <th>211</th>\n",
       "      <td>212</td>\n",
       "      <td>20</td>\n",
       "    </tr>\n",
       "    <tr>\n",
       "      <th>212</th>\n",
       "      <td>213</td>\n",
       "      <td>73</td>\n",
       "    </tr>\n",
       "    <tr>\n",
       "      <th>213</th>\n",
       "      <td>214</td>\n",
       "      <td>25</td>\n",
       "    </tr>\n",
       "    <tr>\n",
       "      <th>214</th>\n",
       "      <td>215</td>\n",
       "      <td>7</td>\n",
       "    </tr>\n",
       "  </tbody>\n",
       "</table>\n",
       "</div>"
      ],
      "text/plain": [
       "     match_no  runs\n",
       "210       211     0\n",
       "211       212    20\n",
       "212       213    73\n",
       "213       214    25\n",
       "214       215     7"
      ]
     },
     "execution_count": 210,
     "metadata": {},
     "output_type": "execute_result"
    }
   ],
   "source": [
    "vk[-5:]"
   ]
  },
  {
   "cell_type": "code",
   "execution_count": 212,
   "id": "6dc24ee6-74d5-4b10-acba-0174ad19a416",
   "metadata": {},
   "outputs": [
    {
     "data": {
      "text/html": [
       "<div>\n",
       "<style scoped>\n",
       "    .dataframe tbody tr th:only-of-type {\n",
       "        vertical-align: middle;\n",
       "    }\n",
       "\n",
       "    .dataframe tbody tr th {\n",
       "        vertical-align: top;\n",
       "    }\n",
       "\n",
       "    .dataframe thead th {\n",
       "        text-align: right;\n",
       "    }\n",
       "</style>\n",
       "<table border=\"1\" class=\"dataframe\">\n",
       "  <thead>\n",
       "    <tr style=\"text-align: right;\">\n",
       "      <th></th>\n",
       "      <th>lead</th>\n",
       "    </tr>\n",
       "    <tr>\n",
       "      <th>movie</th>\n",
       "      <th></th>\n",
       "    </tr>\n",
       "  </thead>\n",
       "  <tbody>\n",
       "    <tr>\n",
       "      <th>Hum Tumhare Hain Sanam</th>\n",
       "      <td>Shah Rukh Khan</td>\n",
       "    </tr>\n",
       "    <tr>\n",
       "      <th>Aankhen (2002 film)</th>\n",
       "      <td>Amitabh Bachchan</td>\n",
       "    </tr>\n",
       "    <tr>\n",
       "      <th>Saathiya (film)</th>\n",
       "      <td>Vivek Oberoi</td>\n",
       "    </tr>\n",
       "    <tr>\n",
       "      <th>Company (film)</th>\n",
       "      <td>Ajay Devgn</td>\n",
       "    </tr>\n",
       "    <tr>\n",
       "      <th>Awara Paagal Deewana</th>\n",
       "      <td>Akshay Kumar</td>\n",
       "    </tr>\n",
       "  </tbody>\n",
       "</table>\n",
       "</div>"
      ],
      "text/plain": [
       "                                    lead\n",
       "movie                                   \n",
       "Hum Tumhare Hain Sanam    Shah Rukh Khan\n",
       "Aankhen (2002 film)     Amitabh Bachchan\n",
       "Saathiya (film)             Vivek Oberoi\n",
       "Company (film)                Ajay Devgn\n",
       "Awara Paagal Deewana        Akshay Kumar"
      ]
     },
     "execution_count": 212,
     "metadata": {},
     "output_type": "execute_result"
    }
   ],
   "source": [
    "movies[-5:]"
   ]
  },
  {
   "cell_type": "code",
   "execution_count": 217,
   "id": "ba4949de-66bf-491f-88b2-3f3b74ea7d0e",
   "metadata": {},
   "outputs": [],
   "source": [
    "#Fancy indexing\n",
    "#vk[[1,4,6,8]]"
   ]
  },
  {
   "cell_type": "code",
   "execution_count": 222,
   "id": "8c9a3907-1bcb-4b5e-89c0-dce72d46cdd8",
   "metadata": {},
   "outputs": [],
   "source": [
    "#inexing with labels\n",
    "#movies[['Hum Tumhare Hain Sanam']]"
   ]
  },
  {
   "cell_type": "code",
   "execution_count": 225,
   "id": "c0f3ff72-3574-409e-8cb0-6dad46355548",
   "metadata": {},
   "outputs": [],
   "source": [
    "#Editing Series"
   ]
  },
  {
   "cell_type": "code",
   "execution_count": 228,
   "id": "247c357e-fe54-4be0-9729-ae7a0b450e5a",
   "metadata": {},
   "outputs": [
    {
     "name": "stderr",
     "output_type": "stream",
     "text": [
      "C:\\Users\\Sandeep Raj\\AppData\\Local\\Temp\\ipykernel_2516\\4098600659.py:2: FutureWarning: Series.__setitem__ treating keys as positions is deprecated. In a future version, integer keys will always be treated as labels (consistent with DataFrame behavior). To set a value by position, use `ser.iloc[pos] = value`\n",
      "  marks_series[1]=88\n"
     ]
    },
    {
     "data": {
      "text/plain": [
       "math    67\n",
       "nlp     88\n",
       "pm      90\n",
       "semp    89\n",
       "Name: Sachin ka marks, dtype: int64"
      ]
     },
     "execution_count": 228,
     "metadata": {},
     "output_type": "execute_result"
    }
   ],
   "source": [
    "#indexing\n",
    "marks_series[1]=88\n",
    "marks_series"
   ]
  },
  {
   "cell_type": "code",
   "execution_count": 229,
   "id": "b355573f-5d02-4508-8377-588523018ba0",
   "metadata": {},
   "outputs": [],
   "source": [
    "#what if indexing doesn't exits\n",
    "marks_series['evs']=90"
   ]
  },
  {
   "cell_type": "code",
   "execution_count": 230,
   "id": "c8e8c09f-380b-4bda-ab73-66b8ce5c1271",
   "metadata": {},
   "outputs": [
    {
     "data": {
      "text/plain": [
       "math    67\n",
       "nlp     88\n",
       "pm      90\n",
       "semp    89\n",
       "evs     90\n",
       "Name: Sachin ka marks, dtype: int64"
      ]
     },
     "execution_count": 230,
     "metadata": {},
     "output_type": "execute_result"
    }
   ],
   "source": [
    "marks_series"
   ]
  },
  {
   "cell_type": "code",
   "execution_count": 2,
   "id": "32da2377-8016-4c86-ba59-79ec9a95a0a6",
   "metadata": {},
   "outputs": [],
   "source": [
    "#Series with pyhton functionalities"
   ]
  },
  {
   "cell_type": "code",
   "execution_count": 36,
   "id": "595c2b17-42c6-45f7-8a61-b851ec77ead9",
   "metadata": {},
   "outputs": [
    {
     "name": "stdout",
     "output_type": "stream",
     "text": [
      "365\n",
      "<class 'pandas.core.frame.DataFrame'>\n",
      "Subscribers gained\n"
     ]
    }
   ],
   "source": [
    "#len/type/sort/max/min\n",
    "print(len(subs))\n",
    "print(type(subs))\n",
    "print(max(subs))"
   ]
  },
  {
   "cell_type": "code",
   "execution_count": 45,
   "id": "f86fd882-94a1-4a85-a4dd-2791709e32f4",
   "metadata": {},
   "outputs": [
    {
     "data": {
      "text/plain": [
       "[67, 87, 90, 89]"
      ]
     },
     "execution_count": 45,
     "metadata": {},
     "output_type": "execute_result"
    }
   ],
   "source": [
    "#type conversion\n",
    "list(marks_series)"
   ]
  },
  {
   "cell_type": "code",
   "execution_count": 46,
   "id": "9f49438c-1440-4c6e-8b12-49727b6c755e",
   "metadata": {},
   "outputs": [
    {
     "data": {
      "text/plain": [
       "{'math': 67, 'nlp': 87, 'pm': 90, 'semp': 89}"
      ]
     },
     "execution_count": 46,
     "metadata": {},
     "output_type": "execute_result"
    }
   ],
   "source": [
    "dict(marks_series)"
   ]
  },
  {
   "cell_type": "code",
   "execution_count": 47,
   "id": "38fd5cb8-2c20-4258-b5b7-0020e7975fd8",
   "metadata": {},
   "outputs": [
    {
     "data": {
      "text/plain": [
       "(67, 87, 90, 89)"
      ]
     },
     "execution_count": 47,
     "metadata": {},
     "output_type": "execute_result"
    }
   ],
   "source": [
    "tuple(marks_series)"
   ]
  },
  {
   "cell_type": "code",
   "execution_count": 48,
   "id": "7057fae5-3aa9-4935-b6a3-05f09ea056e8",
   "metadata": {},
   "outputs": [],
   "source": [
    "#membership operator"
   ]
  },
  {
   "cell_type": "code",
   "execution_count": 49,
   "id": "f3554f60-e36b-4ddf-94ce-56ea1afbf512",
   "metadata": {},
   "outputs": [
    {
     "data": {
      "text/html": [
       "<div>\n",
       "<style scoped>\n",
       "    .dataframe tbody tr th:only-of-type {\n",
       "        vertical-align: middle;\n",
       "    }\n",
       "\n",
       "    .dataframe tbody tr th {\n",
       "        vertical-align: top;\n",
       "    }\n",
       "\n",
       "    .dataframe thead th {\n",
       "        text-align: right;\n",
       "    }\n",
       "</style>\n",
       "<table border=\"1\" class=\"dataframe\">\n",
       "  <thead>\n",
       "    <tr style=\"text-align: right;\">\n",
       "      <th></th>\n",
       "      <th>lead</th>\n",
       "    </tr>\n",
       "    <tr>\n",
       "      <th>movie</th>\n",
       "      <th></th>\n",
       "    </tr>\n",
       "  </thead>\n",
       "  <tbody>\n",
       "    <tr>\n",
       "      <th>Uri: The Surgical Strike</th>\n",
       "      <td>Vicky Kaushal</td>\n",
       "    </tr>\n",
       "    <tr>\n",
       "      <th>Battalion 609</th>\n",
       "      <td>Vicky Ahuja</td>\n",
       "    </tr>\n",
       "    <tr>\n",
       "      <th>The Accidental Prime Minister (film)</th>\n",
       "      <td>Anupam Kher</td>\n",
       "    </tr>\n",
       "    <tr>\n",
       "      <th>Why Cheat India</th>\n",
       "      <td>Emraan Hashmi</td>\n",
       "    </tr>\n",
       "    <tr>\n",
       "      <th>Evening Shadows</th>\n",
       "      <td>Mona Ambegaonkar</td>\n",
       "    </tr>\n",
       "    <tr>\n",
       "      <th>...</th>\n",
       "      <td>...</td>\n",
       "    </tr>\n",
       "    <tr>\n",
       "      <th>Hum Tumhare Hain Sanam</th>\n",
       "      <td>Shah Rukh Khan</td>\n",
       "    </tr>\n",
       "    <tr>\n",
       "      <th>Aankhen (2002 film)</th>\n",
       "      <td>Amitabh Bachchan</td>\n",
       "    </tr>\n",
       "    <tr>\n",
       "      <th>Saathiya (film)</th>\n",
       "      <td>Vivek Oberoi</td>\n",
       "    </tr>\n",
       "    <tr>\n",
       "      <th>Company (film)</th>\n",
       "      <td>Ajay Devgn</td>\n",
       "    </tr>\n",
       "    <tr>\n",
       "      <th>Awara Paagal Deewana</th>\n",
       "      <td>Akshay Kumar</td>\n",
       "    </tr>\n",
       "  </tbody>\n",
       "</table>\n",
       "<p>1500 rows × 1 columns</p>\n",
       "</div>"
      ],
      "text/plain": [
       "                                                  lead\n",
       "movie                                                 \n",
       "Uri: The Surgical Strike                 Vicky Kaushal\n",
       "Battalion 609                              Vicky Ahuja\n",
       "The Accidental Prime Minister (film)       Anupam Kher\n",
       "Why Cheat India                          Emraan Hashmi\n",
       "Evening Shadows                       Mona Ambegaonkar\n",
       "...                                                ...\n",
       "Hum Tumhare Hain Sanam                  Shah Rukh Khan\n",
       "Aankhen (2002 film)                   Amitabh Bachchan\n",
       "Saathiya (film)                           Vivek Oberoi\n",
       "Company (film)                              Ajay Devgn\n",
       "Awara Paagal Deewana                      Akshay Kumar\n",
       "\n",
       "[1500 rows x 1 columns]"
      ]
     },
     "execution_count": 49,
     "metadata": {},
     "output_type": "execute_result"
    }
   ],
   "source": [
    "movies"
   ]
  },
  {
   "cell_type": "code",
   "execution_count": 59,
   "id": "00c4a61e-080c-4587-9d3f-60eb65724bba",
   "metadata": {},
   "outputs": [
    {
     "data": {
      "text/plain": [
       "False"
      ]
     },
     "execution_count": 59,
     "metadata": {},
     "output_type": "execute_result"
    }
   ],
   "source": [
    "'Awara Paagal Deewana' in movies"
   ]
  },
  {
   "cell_type": "code",
   "execution_count": 55,
   "id": "1c2e9f30-a322-4650-9fb0-25bbdd1b4396",
   "metadata": {},
   "outputs": [
    {
     "data": {
      "text/plain": [
       "False"
      ]
     },
     "execution_count": 55,
     "metadata": {},
     "output_type": "execute_result"
    }
   ],
   "source": [
    "'3 idiots' in movies"
   ]
  },
  {
   "cell_type": "code",
   "execution_count": 60,
   "id": "732ac84b-c819-422c-b9a8-9bcc743840ad",
   "metadata": {},
   "outputs": [],
   "source": [
    "#Arithmetic operator"
   ]
  },
  {
   "cell_type": "code",
   "execution_count": 61,
   "id": "a18f4aa0-c15b-44fb-871c-e1340b5ddf87",
   "metadata": {},
   "outputs": [
    {
     "data": {
      "text/plain": [
       "math    67\n",
       "nlp     87\n",
       "pm      90\n",
       "semp    89\n",
       "Name: Sachin ka marks, dtype: int64"
      ]
     },
     "execution_count": 61,
     "metadata": {},
     "output_type": "execute_result"
    }
   ],
   "source": [
    "marks_series"
   ]
  },
  {
   "cell_type": "code",
   "execution_count": 62,
   "id": "34e7d083-95ef-4906-9399-cf74719a1be6",
   "metadata": {},
   "outputs": [
    {
     "data": {
      "text/plain": [
       "math    33\n",
       "nlp     13\n",
       "pm      10\n",
       "semp    11\n",
       "Name: Sachin ka marks, dtype: int64"
      ]
     },
     "execution_count": 62,
     "metadata": {},
     "output_type": "execute_result"
    }
   ],
   "source": [
    "100 - marks_series "
   ]
  },
  {
   "cell_type": "code",
   "execution_count": 63,
   "id": "f4503606-9397-4c7e-b622-eac4af9c11f9",
   "metadata": {},
   "outputs": [
    {
     "data": {
      "text/plain": [
       "math    167\n",
       "nlp     187\n",
       "pm      190\n",
       "semp    189\n",
       "Name: Sachin ka marks, dtype: int64"
      ]
     },
     "execution_count": 63,
     "metadata": {},
     "output_type": "execute_result"
    }
   ],
   "source": [
    "100+ marks_series"
   ]
  },
  {
   "cell_type": "code",
   "execution_count": 65,
   "id": "fb101902-25c6-426c-8b6c-4ba1297b18e1",
   "metadata": {},
   "outputs": [],
   "source": [
    "#relational operator"
   ]
  },
  {
   "cell_type": "code",
   "execution_count": 68,
   "id": "b0434750-2757-4536-8a4f-f9bffd897c7b",
   "metadata": {},
   "outputs": [
    {
     "data": {
      "text/plain": [
       "math    False\n",
       "nlp      True\n",
       "pm       True\n",
       "semp     True\n",
       "Name: Sachin ka marks, dtype: bool"
      ]
     },
     "execution_count": 68,
     "metadata": {},
     "output_type": "execute_result"
    }
   ],
   "source": [
    "marks_series>70"
   ]
  },
  {
   "cell_type": "code",
   "execution_count": 69,
   "id": "4c9d3c25-7184-41f8-ad6b-2739e35052bc",
   "metadata": {},
   "outputs": [
    {
     "data": {
      "text/plain": [
       "90"
      ]
     },
     "execution_count": 69,
     "metadata": {},
     "output_type": "execute_result"
    }
   ],
   "source": [
    "max(marks_series)"
   ]
  },
  {
   "cell_type": "code",
   "execution_count": 70,
   "id": "3d683cf6-823a-4d3b-9c25-610ce82ac435",
   "metadata": {},
   "outputs": [],
   "source": [
    "#boolean Indexing "
   ]
  },
  {
   "cell_type": "code",
   "execution_count": 76,
   "id": "16bceccf-29d1-4c48-a191-e754208d2bf9",
   "metadata": {},
   "outputs": [
    {
     "data": {
      "text/plain": [
       "365"
      ]
     },
     "execution_count": 76,
     "metadata": {},
     "output_type": "execute_result"
    }
   ],
   "source": [
    "subs[subs==0].size"
   ]
  },
  {
   "cell_type": "code",
   "execution_count": 77,
   "id": "4210d9d7-5022-4ca1-9257-9bdb5353fce8",
   "metadata": {},
   "outputs": [
    {
     "data": {
      "text/plain": [
       "365"
      ]
     },
     "execution_count": 77,
     "metadata": {},
     "output_type": "execute_result"
    }
   ],
   "source": [
    "subs[subs>=50].size"
   ]
  },
  {
   "cell_type": "code",
   "execution_count": 78,
   "id": "5b78eeb4-7afd-43e6-8e64-77f8332c2322",
   "metadata": {},
   "outputs": [],
   "source": [
    "#finding actors who have worked more than 20 in movies"
   ]
  },
  {
   "cell_type": "code",
   "execution_count": 83,
   "id": "6c22595c-436a-4054-88e4-c5106e72b148",
   "metadata": {},
   "outputs": [
    {
     "data": {
      "text/plain": [
       "lead            \n",
       "Akshay Kumar        48\n",
       "Amitabh Bachchan    45\n",
       "Ajay Devgn          38\n",
       "Salman Khan         31\n",
       "Sanjay Dutt         26\n",
       "Shah Rukh Khan      22\n",
       "Emraan Hashmi       21\n",
       "Name: count, dtype: int64"
      ]
     },
     "execution_count": 83,
     "metadata": {},
     "output_type": "execute_result"
    }
   ],
   "source": [
    "num_movies=movies.value_counts()\n",
    "num_movies[num_movies>20]"
   ]
  },
  {
   "cell_type": "code",
   "execution_count": 84,
   "id": "62df7e93-1dfe-4241-912e-a5b337831820",
   "metadata": {},
   "outputs": [],
   "source": [
    "#graphs plooting on series object"
   ]
  },
  {
   "cell_type": "code",
   "execution_count": 91,
   "id": "9d1fbdb3-d21e-46c7-b8df-ba9fbc523328",
   "metadata": {},
   "outputs": [
    {
     "data": {
      "text/plain": [
       "<Axes: >"
      ]
     },
     "execution_count": 91,
     "metadata": {},
     "output_type": "execute_result"
    },
    {
     "data": {
      "image/png": "[encoded data removed]",
      "text/plain": [
       "<Figure size 640x480 with 1 Axes>"
      ]
     },
     "metadata": {},
     "output_type": "display_data"
    }
   ],
   "source": [
    "subs.plot()"
   ]
  },
  {
   "cell_type": "code",
   "execution_count": 92,
   "id": "a0ed0ccf-dbb0-491b-9560-4852c5babd72",
   "metadata": {},
   "outputs": [
    {
     "data": {
      "text/plain": [
       "<Axes: >"
      ]
     },
     "execution_count": 92,
     "metadata": {},
     "output_type": "execute_result"
    },
    {
     "data": {
      "image/png": "[encoded data removed]",
      "text/plain": [
       "<Figure size 640x480 with 1 Axes>"
      ]
     },
     "metadata": {},
     "output_type": "display_data"
    }
   ],
   "source": [
    "marks_series.plot()"
   ]
  },
  {
   "cell_type": "code",
   "execution_count": 98,
   "id": "8e4be822-e756-4137-a681-a31d15651b4d",
   "metadata": {},
   "outputs": [
    {
     "data": {
      "text/plain": [
       "<Axes: >"
      ]
     },
     "execution_count": 98,
     "metadata": {},
     "output_type": "execute_result"
    },
    {
     "data": {
      "image/png": "[encoded data removed]",
      "text/plain": [
       "<Figure size 640x480 with 1 Axes>"
      ]
     },
     "metadata": {},
     "output_type": "display_data"
    }
   ],
   "source": [
    "marks_series.plot(kind='bar')"
   ]
  },
  {
   "cell_type": "code",
   "execution_count": 103,
   "id": "1db74e76-675f-41b4-91c2-fdff989c820a",
   "metadata": {},
   "outputs": [
    {
     "data": {
      "text/plain": [
       "<Axes: ylabel='Sachin ka marks'>"
      ]
     },
     "execution_count": 103,
     "metadata": {},
     "output_type": "execute_result"
    },
    {
     "data": {
      "image/png": "[encoded data removed]",
      "text/plain": [
       "<Figure size 640x480 with 1 Axes>"
      ]
     },
     "metadata": {},
     "output_type": "display_data"
    }
   ],
   "source": [
    "marks_series.plot(kind='pie')"
   ]
  },
  {
   "cell_type": "code",
   "execution_count": null,
   "id": "1df8a17f-ede3-4599-887c-051be163e793",
   "metadata": {},
   "outputs": [],
   "source": []
  },
  {
   "cell_type": "code",
   "execution_count": null,
   "id": "b6cddd19-e3b6-4fb2-9ea9-3a709a8e064d",
   "metadata": {},
   "outputs": [],
   "source": []
  }
 ],
 "metadata": {
  "kernelspec": {
   "display_name": "Python 3 (ipykernel)",
   "language": "python",
   "name": "python3"
  },
  "language_info": {
   "codemirror_mode": {
    "name": "ipython",
    "version": 3
   },
   "file_extension": ".py",
   "mimetype": "text/x-python",
   "name": "python",
   "nbconvert_exporter": "python",
   "pygments_lexer": "ipython3",
   "version": "3.12.1"
  }
 },
 "nbformat": 4,
 "nbformat_minor": 5
}
